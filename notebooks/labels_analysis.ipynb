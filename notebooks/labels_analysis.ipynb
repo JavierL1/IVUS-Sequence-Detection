{
 "cells": [
  {
   "cell_type": "code",
   "execution_count": 42,
   "metadata": {},
   "outputs": [],
   "source": [
    "import csv\n",
    "import json\n",
    "import os\n",
    "from math import ceil\n",
    "\n",
    "import matplotlib.pyplot as plt\n",
    "import pandas as pd\n",
    "import numpy as np"
   ]
  },
  {
   "cell_type": "code",
   "execution_count": 14,
   "metadata": {},
   "outputs": [
    {
     "data": {
      "text/plain": [
       "['CNN5a', 'labels', 'raw', 'rotated']"
      ]
     },
     "execution_count": 14,
     "metadata": {},
     "output_type": "execute_result"
    }
   ],
   "source": [
    "os.listdir('../data')"
   ]
  },
  {
   "cell_type": "code",
   "execution_count": 26,
   "metadata": {},
   "outputs": [],
   "source": [
    "def iter_label_data(labeling_name):\n",
    "    def get_pb_name(row):\n",
    "        return row['FileName'].split('/')[1]\n",
    "\n",
    "    def get_label(row):\n",
    "        return int(row['Calci'])\n",
    "    \n",
    "    labels_path = f'../data/labels/{labeling_name}.txt'\n",
    "    with open(labels_path, 'r') as labels_file:\n",
    "        csv_reader = csv.DictReader(labels_file, delimiter=',')\n",
    "        for row in csv_reader:\n",
    "            yield (get_pb_name(row), get_label(row))"
   ]
  },
  {
   "cell_type": "code",
   "execution_count": 29,
   "metadata": {},
   "outputs": [],
   "source": [
    "def json_serialize_labels(labeling_name):\n",
    "    labels_json = {}\n",
    "    for pb_name, label in iter_label_data(labeling_name):\n",
    "        if pb_name in labels_json:\n",
    "            labels_json[pb_name].append(label)\n",
    "        else:\n",
    "            labels_json[pb_name] = []\n",
    "    with open(f'../data/labels/{labeling_name}.json', 'w') as json_file:\n",
    "        json.dump(labels_json, json_file)"
   ]
  },
  {
   "cell_type": "code",
   "execution_count": 30,
   "metadata": {},
   "outputs": [],
   "source": [
    "for labeling_name in ['cougar_observer1', 'cougar_observer2', 'clean_labels_cougar']:\n",
    "    json_serialize_labels(labeling_name)"
   ]
  },
  {
   "cell_type": "code",
   "execution_count": 32,
   "metadata": {},
   "outputs": [],
   "source": [
    "def load_labels(labeling_name):\n",
    "    with open(f'../data/labels/{labeling_name}.json', 'rb') as json_file:\n",
    "        return json.load(json_file)"
   ]
  },
  {
   "cell_type": "code",
   "execution_count": 33,
   "metadata": {},
   "outputs": [],
   "source": [
    "labels_1 = load_labels('cougar_observer1')\n",
    "labels_2 = load_labels('cougar_observer2')\n",
    "cougar = load_labels('clean_labels_cougar')"
   ]
  },
  {
   "cell_type": "code",
   "execution_count": 46,
   "metadata": {},
   "outputs": [],
   "source": [
    "def plot_value(value, factor=1):\n",
    "    return value * factor if value != 0 else np.nan"
   ]
  },
  {
   "cell_type": "code",
   "execution_count": 83,
   "metadata": {},
   "outputs": [
    {
     "data": {
      "text/plain": [
       "<matplotlib.legend.Legend at 0x1ef1e1d4a30>"
      ]
     },
     "execution_count": 83,
     "metadata": {},
     "output_type": "execute_result"
    },
    {
     "data": {
      "image/png": "[encoded data removed]",
      "text/plain": [
       "<Figure size 720x72 with 1 Axes>"
      ]
     },
     "metadata": {
      "needs_background": "light"
     },
     "output_type": "display_data"
    }
   ],
   "source": [
    "pb_name = '71_PD51BBXI'\n",
    "x = [x_i for x_i in range(1, len(labels_1[pb_name])+1)]\n",
    "fig, axs = plt.subplots(1, 1, figsize=(10, 1))\n",
    "axs.set_ylim(0.7, 3.3)\n",
    "axs.set_xlim(0, max(x))\n",
    "plt.tick_params(left=False, labelleft=False)\n",
    "axs.plot(\n",
    "    x,\n",
    "    [plot_value(value, 3) for value in cougar[pb_name]],\n",
    "    label='Cougar'\n",
    ")\n",
    "axs.plot(\n",
    "    x,\n",
    "    [plot_value(value, 2) for value in labels_1[pb_name]],\n",
    "    label='1° etiquetado'\n",
    ")\n",
    "axs.plot(\n",
    "    x,\n",
    "    [plot_value(value) for value in labels_2[pb_name]],\n",
    "    label='2° etiquetado'\n",
    ")\n",
    "\n",
    "plt.legend(loc='upper left', bbox_to_anchor=(1,1))"
   ]
  },
  {
   "cell_type": "code",
   "execution_count": 35,
   "metadata": {},
   "outputs": [
    {
     "data": {
      "text/plain": [
       "dict_keys(['01_PD796ARA', '02_PD513KSW', '03_PDJP9L2M', '04_PD76P4S1', '05_PDP5ZUCK', '06_PDLKTHJP', '07_PD87KSKG', '08_PDWXQVHG', '09_PDRUFPVP', '10_PD88LMFY', '11_PDXS1LHS', '12_PDMAXIGK', '13_PD2SW1EO', '14_PDZPQDFD', '15_PDX94EF7', '16_PDROXKT4', '17_PDGNQM9R', '18_PDFNNDUV', '19_PDSTFKAK', '20_PD6M9KHG', '21_PDO7ZWJ3', '22_PDE7IGBR', '23_PDBRWKW3', '24_PDKL3TD8', '25_PDHNNUJQ', '26_PDILCBKV', '27_PDN6TBFG', '28_PDTDKWXM', '29_PDTU3ZGD', '30_PDWFC8OQ', '31_PDASKGPK', '32_PDAS6RY4', '33_PDNRKIBC', '34_PDC4MOHG', '35_PDV4HTRN', '36_PDEMJVZQ', '37_PDQC2PIB', '38_PDRNCFK4', '39_PD56BRNX', '40_PDP6HAMC', '41_PDQNU8HT', '42_PDEHSENT', '43_PDQWC1XR', '44_PDFKORFC', '45_PDUC3OL3', '46_PD2DK5KB', '47_PDGSQ7BF', '48_PDKS3P67', '49_PDWHPWRT', '50_PDKA6WCD', '51_PDBB4VBN', '52_PDOYQKSY', '53_PD5QUFLC', '54_PD8IFNLL', '55_PDC7CH5U', '56_PDZBBBC1', '57_PD2H1S5Y', '58_PDCHSUG4', '59_PDCVB84K', '60_PDPMB2MJ', '61_PDEQNZHB', '62_PDF63EKE', '63_PDWCSVWG', '64_PDJJP4QL', '65_PDY5C128', '66_PDC1NPHG', '67_PDIL8ZDI', '68_PDW49G5N', '69_PDNVGH7Z', '70_PDUPMC2M', '71_PD51BBXI', '72_PD2D493T', '73_PDFKGTGC', '74_PDFEHRIO', '75_PDEYBE8Z', '76_PDOWKG6T', '77_PD4DU8E2', '78_PDL7VA8Z', '79_PD9S31N6', '80_PDAPIK96'])"
      ]
     },
     "execution_count": 35,
     "metadata": {},
     "output_type": "execute_result"
    }
   ],
   "source": [
    "labels_1.keys()"
   ]
  },
  {
   "cell_type": "code",
   "execution_count": 60,
   "metadata": {},
   "outputs": [
    {
     "data": {
      "text/plain": [
       "[0,\n",
       " 1,\n",
       " 2,\n",
       " 3,\n",
       " 4,\n",
       " 5,\n",
       " 6,\n",
       " 7,\n",
       " 8,\n",
       " 9,\n",
       " 10,\n",
       " 11,\n",
       " 12,\n",
       " 13,\n",
       " 14,\n",
       " 15,\n",
       " 16,\n",
       " 17,\n",
       " 18,\n",
       " 19,\n",
       " 20,\n",
       " 21,\n",
       " 22,\n",
       " 23,\n",
       " 24,\n",
       " 25,\n",
       " 26,\n",
       " 27,\n",
       " 28,\n",
       " 29,\n",
       " 30,\n",
       " 31,\n",
       " 32,\n",
       " 33,\n",
       " 34,\n",
       " 35,\n",
       " 36,\n",
       " 37,\n",
       " 38,\n",
       " 39,\n",
       " 40,\n",
       " 41,\n",
       " 42,\n",
       " 43,\n",
       " 44,\n",
       " 45,\n",
       " 46,\n",
       " 47,\n",
       " 48,\n",
       " 49,\n",
       " 50,\n",
       " 51,\n",
       " 52,\n",
       " 53,\n",
       " 54,\n",
       " 55,\n",
       " 56,\n",
       " 57,\n",
       " 58,\n",
       " 59,\n",
       " 60,\n",
       " 61,\n",
       " 62,\n",
       " 63,\n",
       " 64,\n",
       " 65,\n",
       " 66,\n",
       " 67,\n",
       " 68,\n",
       " 69,\n",
       " 70,\n",
       " 71,\n",
       " 72,\n",
       " 73,\n",
       " 74,\n",
       " 75,\n",
       " 76,\n",
       " 77,\n",
       " 78,\n",
       " 79,\n",
       " 80,\n",
       " 81,\n",
       " 82,\n",
       " 83,\n",
       " 84,\n",
       " 85,\n",
       " 86,\n",
       " 87,\n",
       " 88,\n",
       " 89,\n",
       " 90,\n",
       " 91,\n",
       " 92,\n",
       " 93,\n",
       " 94,\n",
       " 95,\n",
       " 96,\n",
       " 97,\n",
       " 98,\n",
       " 99,\n",
       " 100,\n",
       " 101,\n",
       " 102,\n",
       " 103,\n",
       " 104,\n",
       " 105,\n",
       " 106,\n",
       " 107,\n",
       " 108,\n",
       " 109,\n",
       " 110,\n",
       " 111]"
      ]
     },
     "execution_count": 60,
     "metadata": {},
     "output_type": "execute_result"
    }
   ],
   "source": [
    "x"
   ]
  },
  {
   "cell_type": "code",
   "execution_count": null,
   "metadata": {},
   "outputs": [],
   "source": []
  }
 ],
 "metadata": {
  "kernelspec": {
   "display_name": "Python 3",
   "language": "python",
   "name": "python3"
  },
  "language_info": {
   "codemirror_mode": {
    "name": "ipython",
    "version": 3
   },
   "file_extension": ".py",
   "mimetype": "text/x-python",
   "name": "python",
   "nbconvert_exporter": "python",
   "pygments_lexer": "ipython3",
   "version": "3.8.0"
  }
 },
 "nbformat": 4,
 "nbformat_minor": 4
}
