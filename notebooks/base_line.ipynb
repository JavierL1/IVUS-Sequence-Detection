{
 "cells": [
  {
   "cell_type": "code",
   "execution_count": 1,
   "metadata": {},
   "outputs": [
    {
     "name": "stdout",
     "output_type": "stream",
     "text": [
      "Collecting numpy\n",
      "  Downloading numpy-1.23.3-cp38-cp38-manylinux_2_17_x86_64.manylinux2014_x86_64.whl (17.1 MB)\n",
      "\u001b[K     |████████████████████████████████| 17.1 MB 7.3 MB/s eta 0:00:01█████▍                        | 4.0 MB 7.3 MB/s eta 0:00:02\n",
      "\u001b[?25hInstalling collected packages: numpy\n",
      "Successfully installed numpy-1.23.3\n"
     ]
    }
   ],
   "source": [
    "!pip install numpy"
   ]
  },
  {
   "cell_type": "code",
   "execution_count": 9,
   "metadata": {},
   "outputs": [],
   "source": [
    "from pathlib import Path\n",
    "import numpy as np"
   ]
  },
  {
   "cell_type": "code",
   "execution_count": 2,
   "metadata": {},
   "outputs": [],
   "source": [
    "def compute_PRAF(ytrue,ypred,threshold=0.5):\n",
    "\t# Fake positives\n",
    "\tFP = 0\n",
    "\t# Fake negatives\n",
    "\tFN = 0\n",
    "\t# True positives\n",
    "\tTP = 0\n",
    "\t# True negatives\n",
    "\tTN = 0\n",
    "\n",
    "\tfor idx in range(len(ytrue)):\n",
    "\t\tif (ypred[idx]>=threshold) and (ytrue[idx]>=threshold):\n",
    "\t\t\tTP = TP + 1\n",
    "\t\telif (ypred[idx]>=threshold) and (ytrue[idx]<threshold):\n",
    "\t\t\tFP = FP + 1\n",
    "\t\telif (ypred[idx]<threshold) and (ytrue[idx]>=threshold):\n",
    "\t\t\tFN = FN + 1\n",
    "\t\telif (ypred[idx]<threshold) and (ytrue[idx]<threshold):\n",
    "\t\t\tTN = TN + 1\n",
    "\n",
    "\tprecision = 1.0\n",
    "\trecall = 1.0\n",
    "\n",
    "\tif (TP+FP) > 0:\n",
    "\t\tprecision = float(TP)/float(TP+FP)\n",
    "\n",
    "\tif (TP+FN) > 0:\n",
    "\t\trecall = float(TP)/float(TP+FN)\n",
    "\n",
    "\taccuracy = float(TP+TN)/float(TP+TN+FP+FN)\n",
    "\t\n",
    "\tif precision+recall > 0:\n",
    "\t\tF = 2*((precision*recall)/(precision+recall))\n",
    "\telse:\n",
    "\t\tF = 0.0\n",
    "\n",
    "\treturn accuracy,precision,recall,F"
   ]
  },
  {
   "cell_type": "code",
   "execution_count": 8,
   "metadata": {},
   "outputs": [
    {
     "data": {
      "text/plain": [
       "[PosixPath('/home/jovyan/work/data/CNN5a/1'),\n",
       " PosixPath('/home/jovyan/work/data/CNN5a/10'),\n",
       " PosixPath('/home/jovyan/work/data/CNN5a/2'),\n",
       " PosixPath('/home/jovyan/work/data/CNN5a/3'),\n",
       " PosixPath('/home/jovyan/work/data/CNN5a/4'),\n",
       " PosixPath('/home/jovyan/work/data/CNN5a/5'),\n",
       " PosixPath('/home/jovyan/work/data/CNN5a/6'),\n",
       " PosixPath('/home/jovyan/work/data/CNN5a/7'),\n",
       " PosixPath('/home/jovyan/work/data/CNN5a/8'),\n",
       " PosixPath('/home/jovyan/work/data/CNN5a/9')]"
      ]
     },
     "execution_count": 8,
     "metadata": {},
     "output_type": "execute_result"
    }
   ],
   "source": [
    "DATA_PATH = Path.cwd() / 'work' / 'data' / 'CNN5a'\n",
    "\n",
    "[f for f in DATA_PATH.iterdir()]"
   ]
  },
  {
   "cell_type": "code",
   "execution_count": 50,
   "metadata": {},
   "outputs": [],
   "source": [
    "def get_fold_praf(fold_number, set_name):\n",
    "    n_pullbacks = 8\n",
    "    fold_folder_path = DATA_PATH / str(fold_number) / 'CSV' / set_name\n",
    "    fold_metrics = np.zeros((8, 3))\n",
    "\n",
    "    for index, pullback_path in enumerate(fold_folder_path.iterdir()):\n",
    "        data = np.loadtxt(pullback_path, delimiter=',')\n",
    "        y_pred = data[:, 0]\n",
    "        y_real = data[:, 1]\n",
    "        _, pre, rec, f_1 = compute_PRAF(y_real, y_pred)\n",
    "        fold_metrics[index, 0] = f_1\n",
    "        fold_metrics[index, 1] = pre\n",
    "        fold_metrics[index, 2] = rec\n",
    "\n",
    "    return np.median(fold_metrics, axis=0)"
   ]
  },
  {
   "cell_type": "code",
   "execution_count": 51,
   "metadata": {},
   "outputs": [],
   "source": [
    "val_1 = get_fold_praf(1, 'VAL')"
   ]
  },
  {
   "cell_type": "code",
   "execution_count": 52,
   "metadata": {},
   "outputs": [],
   "source": [
    "def display_values(values):\n",
    "    return [\n",
    "        '%.2f'%value\n",
    "        for value in values\n",
    "    ]"
   ]
  },
  {
   "cell_type": "code",
   "execution_count": 53,
   "metadata": {},
   "outputs": [],
   "source": [
    "def calculate_metrics(set_name):\n",
    "    all_praf = [\n",
    "        get_fold_praf(fold_number, set_name)\n",
    "        for fold_number in range(1, 11)\n",
    "    ]\n",
    "\n",
    "    means = np.mean(all_praf, axis=0)\n",
    "    stds = np.std(all_praf, axis=0)\n",
    "\n",
    "    return (display_values(means), display_values(stds))\n",
    "        "
   ]
  },
  {
   "cell_type": "code",
   "execution_count": 54,
   "metadata": {},
   "outputs": [
    {
     "data": {
      "text/plain": [
       "(['0.58', '0.88', '0.53'], ['0.11', '0.14', '0.19'])"
      ]
     },
     "execution_count": 54,
     "metadata": {},
     "output_type": "execute_result"
    }
   ],
   "source": [
    "calculate_metrics('VAL')"
   ]
  },
  {
   "cell_type": "code",
   "execution_count": 55,
   "metadata": {},
   "outputs": [
    {
     "data": {
      "text/plain": [
       "(['0.58', '0.89', '0.56'], ['0.17', '0.11', '0.22'])"
      ]
     },
     "execution_count": 55,
     "metadata": {},
     "output_type": "execute_result"
    }
   ],
   "source": [
    "calculate_metrics('TEST')"
   ]
  },
  {
   "cell_type": "code",
   "execution_count": null,
   "metadata": {},
   "outputs": [],
   "source": []
  }
 ],
 "metadata": {
  "kernelspec": {
   "display_name": "Python 3",
   "language": "python",
   "name": "python3"
  },
  "orig_nbformat": 4
 },
 "nbformat": 4,
 "nbformat_minor": 2
}
