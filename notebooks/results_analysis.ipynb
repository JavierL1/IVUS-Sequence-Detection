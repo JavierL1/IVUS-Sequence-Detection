{
 "cells": [
  {
   "cell_type": "code",
   "execution_count": 2,
   "metadata": {},
   "outputs": [],
   "source": [
    "import json\n",
    "import os\n",
    "from math import ceil\n",
    "\n",
    "import matplotlib.pyplot as plt\n",
    "import pandas as pd"
   ]
  },
  {
   "cell_type": "code",
   "execution_count": 1,
   "metadata": {},
   "outputs": [],
   "source": [
    "def n_bins(values):\n",
    "    sorted_values = sorted(values)\n",
    "    length = len(sorted_values)\n",
    "    q1 = ceil(length / 4)\n",
    "    q3 = ceil(length * 3 / 4)\n",
    "    IQR = calcium_lengths[q3 - 1] - calcium_lengths[q1 - 1]\n",
    "    h = 2 * IQR * (length ** (-1/3))\n",
    "    max_value = max(calcium_lengths)\n",
    "    min_value = min(calcium_lengths)\n",
    "    return ceil((max_value - min_value) / h)"
   ]
  },
  {
   "cell_type": "code",
   "execution_count": 3,
   "metadata": {},
   "outputs": [],
   "source": [
    "with open('../results/hp_cr/model_3/metrics.json', 'r') as json_file:\n",
    "    data = json.load(json_file)"
   ]
  },
  {
   "cell_type": "code",
   "execution_count": 10,
   "metadata": {},
   "outputs": [
    {
     "name": "stdout",
     "output_type": "stream",
     "text": [
      "20 230\n"
     ]
    }
   ],
   "source": [
    "lengths = [\n",
    "    len(data['metrics']['1']['train_cnn'][pb_name]['pred'])\n",
    "    for pb_name in data['metrics']['1']['train_cnn'].keys()\n",
    "]"
   ]
  },
  {
   "cell_type": "code",
   "execution_count": 76,
   "metadata": {},
   "outputs": [
    {
     "data": {
      "text/plain": [
       "(array([4., 6., 7., 4., 5., 1., 3., 2.]),\n",
       " array([ 20.  ,  46.25,  72.5 ,  98.75, 125.  , 151.25, 177.5 , 203.75,\n",
       "        230.  ]),\n",
       " <BarContainer object of 8 artists>)"
      ]
     },
     "execution_count": 76,
     "metadata": {},
     "output_type": "execute_result"
    },
    {
     "data": {
      "image/png": "[encoded data removed]",
      "text/plain": [
       "<Figure size 432x288 with 1 Axes>"
      ]
     },
     "metadata": {
      "needs_background": "light"
     },
     "output_type": "display_data"
    }
   ],
   "source": [
    "fig1, axs1 = plt.subplots(1, 1)\n",
    "axs1.grid(axis='y')\n",
    "axs1.set_axisbelow(True)\n",
    "axs1.hist(lengths, bins=n_bins(lengths))"
   ]
  },
  {
   "cell_type": "code",
   "execution_count": 79,
   "metadata": {},
   "outputs": [
    {
     "data": {
      "text/plain": [
       "{'whiskers': [<matplotlib.lines.Line2D at 0x2cdd4d69bb0>,\n",
       "  <matplotlib.lines.Line2D at 0x2cdd4d69e50>],\n",
       " 'caps': [<matplotlib.lines.Line2D at 0x2cdd4d781f0>,\n",
       "  <matplotlib.lines.Line2D at 0x2cdd4d78550>],\n",
       " 'boxes': [<matplotlib.lines.Line2D at 0x2cdd4d69820>],\n",
       " 'medians': [<matplotlib.lines.Line2D at 0x2cdd4d788b0>],\n",
       " 'fliers': [<matplotlib.lines.Line2D at 0x2cdd4d78c10>],\n",
       " 'means': []}"
      ]
     },
     "execution_count": 79,
     "metadata": {},
     "output_type": "execute_result"
    },
    {
     "data": {
      "image/png": "[encoded data removed]",
      "text/plain": [
       "<Figure size 432x288 with 1 Axes>"
      ]
     },
     "metadata": {
      "needs_background": "light"
     },
     "output_type": "display_data"
    }
   ],
   "source": [
    "fig1, axs1 = plt.subplots(1, 1)\n",
    "axs1.boxplot(lengths)"
   ]
  },
  {
   "cell_type": "code",
   "execution_count": 31,
   "metadata": {},
   "outputs": [],
   "source": [
    "def get_calcium_lengths(sequence):\n",
    "    lengths = []\n",
    "    current_length = 0\n",
    "    for element in sequence:\n",
    "        current_length += element\n",
    "        if current_length > 0 and element == 0:\n",
    "            lengths.append(current_length)\n",
    "            current_length = 0\n",
    "\n",
    "    if current_length > 0:\n",
    "        lengths.append(current_length)\n",
    "\n",
    "    return lengths"
   ]
  },
  {
   "cell_type": "code",
   "execution_count": 47,
   "metadata": {},
   "outputs": [],
   "source": [
    "calcium_lengths = [\n",
    "    length\n",
    "    for pb_name in data['metrics']['1']['train_cnn'].keys()\n",
    "    for length in get_calcium_lengths(data['metrics']['1']['train_cnn'][pb_name]['real'])\n",
    "]"
   ]
  },
  {
   "cell_type": "code",
   "execution_count": 77,
   "metadata": {},
   "outputs": [
    {
     "data": {
      "text/plain": [
       "(array([40.,  8.,  6.,  1.,  4.,  3.,  1.,  1.,  0.,  2.]),\n",
       " array([  1. ,  14.1,  27.2,  40.3,  53.4,  66.5,  79.6,  92.7, 105.8,\n",
       "        118.9, 132. ]),\n",
       " <BarContainer object of 10 artists>)"
      ]
     },
     "execution_count": 77,
     "metadata": {},
     "output_type": "execute_result"
    },
    {
     "data": {
      "image/png": "[encoded data removed]",
      "text/plain": [
       "<Figure size 432x288 with 1 Axes>"
      ]
     },
     "metadata": {
      "needs_background": "light"
     },
     "output_type": "display_data"
    }
   ],
   "source": [
    "fig1, axs1 = plt.subplots(1, 1)\n",
    "axs1.grid(axis='y')\n",
    "axs1.set_axisbelow(True)\n",
    "axs1.hist(calcium_lengths, bins=n_bins(calcium_lengths))"
   ]
  },
  {
   "cell_type": "code",
   "execution_count": 78,
   "metadata": {},
   "outputs": [
    {
     "data": {
      "text/plain": [
       "{'whiskers': [<matplotlib.lines.Line2D at 0x2cdd4d13130>,\n",
       "  <matplotlib.lines.Line2D at 0x2cdd4d13490>],\n",
       " 'caps': [<matplotlib.lines.Line2D at 0x2cdd4d137f0>,\n",
       "  <matplotlib.lines.Line2D at 0x2cdd4d13b50>],\n",
       " 'boxes': [<matplotlib.lines.Line2D at 0x2cdd4d04d90>],\n",
       " 'medians': [<matplotlib.lines.Line2D at 0x2cdd4d13ee0>],\n",
       " 'fliers': [<matplotlib.lines.Line2D at 0x2cdd4d20280>],\n",
       " 'means': []}"
      ]
     },
     "execution_count": 78,
     "metadata": {},
     "output_type": "execute_result"
    },
    {
     "data": {
      "image/png": "[encoded data removed]",
      "text/plain": [
       "<Figure size 432x288 with 1 Axes>"
      ]
     },
     "metadata": {
      "needs_background": "light"
     },
     "output_type": "display_data"
    }
   ],
   "source": [
    "fig1, axs1 = plt.subplots(1, 1)\n",
    "axs1.boxplot(calcium_lengths)"
   ]
  },
  {
   "cell_type": "code",
   "execution_count": 8,
   "metadata": {},
   "outputs": [
    {
     "data": {
      "text/plain": [
       "dict_keys(['f1', 'rec', 'fp', 'pre', 'fn', 'acc', 'total', 'tp', 'tn', 'real', 'pred'])"
      ]
     },
     "execution_count": 8,
     "metadata": {},
     "output_type": "execute_result"
    }
   ],
   "source": []
  },
  {
   "cell_type": "code",
   "execution_count": null,
   "metadata": {},
   "outputs": [],
   "source": []
  }
 ],
 "metadata": {
  "kernelspec": {
   "display_name": "Python 3",
   "language": "python",
   "name": "python3"
  },
  "language_info": {
   "codemirror_mode": {
    "name": "ipython",
    "version": 3
   },
   "file_extension": ".py",
   "mimetype": "text/x-python",
   "name": "python",
   "nbconvert_exporter": "python",
   "pygments_lexer": "ipython3",
   "version": "3.8.0"
  }
 },
 "nbformat": 4,
 "nbformat_minor": 2
}
