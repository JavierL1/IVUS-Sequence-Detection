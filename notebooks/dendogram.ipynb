{
 "cells": [
  {
   "cell_type": "code",
   "execution_count": 1,
   "metadata": {},
   "outputs": [],
   "source": [
    "import json\n",
    "import numpy as np\n",
    "from os.path import join\n",
    "\n",
    "RESULTS_FOLDER = '../results'\n",
    "SUBSETS = ['train_cnn', 'val', 'train_rnn', 'test']\n",
    "FOLDS = [str(fold) for fold in range(1, 11)]\n",
    "BEST_MODELS = [\n",
    "    ('hp_cr', '56'),\n",
    "    ('hp_po', '63'),\n",
    "    ('hp_pr', '29'),\n",
    "    ('hp_ro', '14'),\n",
    "    ('hp_sh', '66'),\n",
    "    ('hp_tf', '5'),\n",
    "]\n",
    "\n",
    "def get_metrics(exp_name, model_id):\n",
    "    metrics_path = join(\n",
    "        RESULTS_FOLDER, exp_name, f'model_{model_id}', 'metrics.json'\n",
    "    )\n",
    "    with open(metrics_path, 'r') as metrics_json:\n",
    "        metrics_file = json.load(metrics_json)\n",
    "\n",
    "    return metrics_file['metrics']\n",
    "\n",
    "def jaccard_score(true, pred):\n",
    "    true = np.floor(true + 0.5)\n",
    "    pred = np.floor(pred + 0.5)\n",
    "    inter = sum(true * pred)\n",
    "    union = sum(np.ceil((true + pred) / 2.0))\n",
    "    if union == 0.0:\n",
    "        return 1.0\n",
    "    else:\n",
    "        return inter/union\n",
    "\n",
    "def calculate_jaccard(exp_name_1, model_id_1, exp_name_2, model_id_2):\n",
    "    competitor_1 = get_metrics(exp_name_1, model_id_1)\n",
    "    competitor_2 = get_metrics(exp_name_2, model_id_2)\n",
    "    jaccard_scores = {\n",
    "        subset: {\n",
    "            'values': []\n",
    "        }\n",
    "        for subset in SUBSETS\n",
    "    }\n",
    "    for fold in FOLDS:\n",
    "        for subset in SUBSETS:\n",
    "            fold_subset = competitor_1[fold][subset]\n",
    "            for pb_name in fold_subset.keys():\n",
    "                jaccard_scores[subset]['values'].append(jaccard_score(\n",
    "                    np.array(fold_subset[pb_name]['pred']),\n",
    "                    np.array(competitor_2[fold][subset][pb_name]['pred'])\n",
    "                ))\n",
    "\n",
    "    for subset in SUBSETS:\n",
    "        jaccard_scores[subset]['values'] = np.array(\n",
    "            jaccard_scores[subset]['values'])\n",
    "        jaccard_scores[subset]['mean'] = np.mean(\n",
    "            jaccard_scores[subset]['values'])\n",
    "        jaccard_scores[subset]['std'] = np.std(\n",
    "            jaccard_scores[subset]['values'])\n",
    "\n",
    "    return jaccard_scores\n",
    "\n",
    "def calculate_jaccard_matrix():\n",
    "    results = {}\n",
    "    matrix_models = BEST_MODELS\n",
    "    for exp_name_1, model_id_1 in matrix_models:\n",
    "        results[exp_name_1] = {}\n",
    "        for exp_name_2, model_id_2 in matrix_models:\n",
    "            results[exp_name_1][exp_name_2] = calculate_jaccard(\n",
    "                exp_name_1, model_id_1, exp_name_2, model_id_2\n",
    "            )\n",
    "\n",
    "    matrices = {\n",
    "        subset: []\n",
    "        for subset in SUBSETS\n",
    "    }\n",
    "    headers = []\n",
    "    for exp_name_1, model_id_1 in matrix_models:\n",
    "        headers.append(exp_name_1)\n",
    "        row = {\n",
    "            subset: []\n",
    "            for subset in SUBSETS\n",
    "        }\n",
    "        for exp_name_2, model_id_2 in matrix_models:\n",
    "            for subset in SUBSETS:\n",
    "                if exp_name_1 != exp_name_2:\n",
    "                    row[subset].append(\n",
    "                        results[exp_name_1][exp_name_2][subset]['mean'])\n",
    "                else:\n",
    "                    row[subset].append(0.0)\n",
    "        for subset in SUBSETS:\n",
    "            matrices[subset].append(np.array(row[subset]))\n",
    "\n",
    "    for subset in SUBSETS:\n",
    "        matrices[subset] = np.stack(matrices[subset])\n",
    "\n",
    "    return matrices, headers, results\n"
   ]
  },
  {
   "cell_type": "code",
   "execution_count": 2,
   "metadata": {},
   "outputs": [
    {
     "data": {
      "text/plain": [
       "['hp_cr', 'hp_po', 'hp_pr', 'hp_ro', 'hp_sh', 'hp_tf']"
      ]
     },
     "execution_count": 2,
     "metadata": {},
     "output_type": "execute_result"
    }
   ],
   "source": [
    "matrices, headers, results = calculate_jaccard_matrix()\n",
    "headers"
   ]
  },
  {
   "cell_type": "code",
   "execution_count": 3,
   "metadata": {},
   "outputs": [
    {
     "data": {
      "text/plain": [
       "array([[0.        , 0.6071529 , 0.63626911, 0.62602977, 0.62400744,\n",
       "        0.60700183],\n",
       "       [0.6071529 , 0.        , 0.70740113, 0.67237436, 0.66979301,\n",
       "        0.65979281],\n",
       "       [0.63626911, 0.70740113, 0.        , 0.70221574, 0.67344735,\n",
       "        0.67639495],\n",
       "       [0.62602977, 0.67237436, 0.70221574, 0.        , 0.6791204 ,\n",
       "        0.66617041],\n",
       "       [0.62400744, 0.66979301, 0.67344735, 0.6791204 , 0.        ,\n",
       "        0.64995142],\n",
       "       [0.60700183, 0.65979281, 0.67639495, 0.66617041, 0.64995142,\n",
       "        0.        ]])"
      ]
     },
     "execution_count": 3,
     "metadata": {},
     "output_type": "execute_result"
    }
   ],
   "source": [
    "matrices['val']"
   ]
  },
  {
   "cell_type": "code",
   "execution_count": 4,
   "metadata": {},
   "outputs": [],
   "source": [
    "from scipy.cluster.hierarchy import dendrogram, linkage\n",
    "from scipy.spatial.distance import squareform\n",
    "\n",
    "import matplotlib.pyplot as plt"
   ]
  },
  {
   "cell_type": "code",
   "execution_count": 17,
   "metadata": {},
   "outputs": [],
   "source": [
    "def best_model_id(exp_name):\n",
    "    return [best_model[1] for best_model in BEST_MODELS if exp_name in best_model[0]][0]\n",
    "\n",
    "display_headers = [f'{header.split(\"_\")[1].upper()}-{best_model_id(header)}' for header in headers]"
   ]
  },
  {
   "cell_type": "code",
   "execution_count": 18,
   "metadata": {},
   "outputs": [
    {
     "data": {
      "image/png": "[encoded data removed]",
      "text/plain": [
       "<Figure size 1152x360 with 1 Axes>"
      ]
     },
     "metadata": {
      "needs_background": "light"
     },
     "output_type": "display_data"
    }
   ],
   "source": [
    "plt.figure(figsize=(16, 5))\n",
    "dists = squareform(matrices['val'])\n",
    "linkage_matrix = linkage(dists, \"single\")\n",
    "dendrogram(linkage_matrix, labels=display_headers)\n",
    "plt.title(\"Conjunto de validación\")\n",
    "plt.show()"
   ]
  },
  {
   "cell_type": "code",
   "execution_count": 19,
   "metadata": {},
   "outputs": [
    {
     "data": {
      "image/png": "[encoded data removed]",
      "text/plain": [
       "<Figure size 864x360 with 1 Axes>"
      ]
     },
     "metadata": {
      "needs_background": "light"
     },
     "output_type": "display_data"
    }
   ],
   "source": [
    "plt.figure(figsize=(12, 5))\n",
    "dists = squareform(matrices['test'])\n",
    "linkage_matrix = linkage(dists, \"single\")\n",
    "dendrogram(linkage_matrix, labels=display_headers)\n",
    "plt.title(\"Conjunto de prueba\")\n",
    "plt.show()"
   ]
  },
  {
   "cell_type": "code",
   "execution_count": null,
   "metadata": {},
   "outputs": [],
   "source": []
  }
 ],
 "metadata": {
  "kernelspec": {
   "display_name": "Python 3",
   "language": "python",
   "name": "python3"
  },
  "language_info": {
   "codemirror_mode": {
    "name": "ipython",
    "version": 3
   },
   "file_extension": ".py",
   "mimetype": "text/x-python",
   "name": "python",
   "nbconvert_exporter": "python",
   "pygments_lexer": "ipython3",
   "version": "3.8.0"
  }
 },
 "nbformat": 4,
 "nbformat_minor": 4
}
