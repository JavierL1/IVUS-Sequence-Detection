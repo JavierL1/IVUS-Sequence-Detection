{
 "cells": [
  {
   "cell_type": "code",
   "execution_count": 1,
   "metadata": {},
   "outputs": [],
   "source": [
    "import json\n",
    "import numpy as np\n",
    "from os.path import join\n",
    "from pathlib import Path\n",
    "\n",
    "RESULTS_FOLDER = Path.cwd() / 'work' / 'results'\n",
    "SUBSETS = ['train_cnn', 'val', 'train_rnn', 'test']\n",
    "FOLDS = [str(fold) for fold in range(1, 11)]\n",
    "BEST_MODELS = {\n",
    "    'test': [\n",
    "        ('hp_pr', '29'),\n",
    "        ('hp_po', '63'),\n",
    "        ('hp_tf', '5'),\n",
    "        ('hp_cr', '56'),\n",
    "        ('hp_sh', '66'),\n",
    "        ('hp_ro', '14'),\n",
    "    ],\n",
    "    'val': [\n",
    "        ('hp_pr', '57'),\n",
    "        ('hp_po', '63'),\n",
    "        ('hp_tf', '69'),\n",
    "        ('hp_cr', '55'),\n",
    "        ('hp_sh', '72'),\n",
    "        ('hp_ro', '33'),\n",
    "    ]\n",
    "}\n",
    "\n",
    "def get_metrics(exp_name, model_id):\n",
    "    metrics_path = RESULTS_FOLDER / exp_name / f'model_{model_id}' / 'metrics.json'\n",
    "\n",
    "    with open(metrics_path, 'r') as metrics_json:\n",
    "        metrics_file = json.load(metrics_json)\n",
    "\n",
    "    return metrics_file['metrics']\n",
    "\n",
    "def jaccard_score(true, pred):\n",
    "    true = np.floor(true + 0.5)\n",
    "    pred = np.floor(pred + 0.5)\n",
    "    inter = sum(true * pred)\n",
    "    union = sum(np.ceil((true + pred) / 2.0))\n",
    "    if union == 0.0:\n",
    "        return 1.0\n",
    "    else:\n",
    "        return inter/union\n",
    "\n",
    "def calculate_jaccard(exp_name_1, model_id_1, exp_name_2, model_id_2):\n",
    "    competitor_1 = get_metrics(exp_name_1, model_id_1)\n",
    "    competitor_2 = get_metrics(exp_name_2, model_id_2)\n",
    "    jaccard_scores = {\n",
    "        subset: {\n",
    "            'values': []\n",
    "        }\n",
    "        for subset in SUBSETS\n",
    "    }\n",
    "    for fold in FOLDS:\n",
    "        for subset in SUBSETS:\n",
    "            fold_subset = competitor_1[fold][subset]\n",
    "            for pb_name in fold_subset.keys():\n",
    "                jaccard_scores[subset]['values'].append(jaccard_score(\n",
    "                    np.array(fold_subset[pb_name]['pred']),\n",
    "                    np.array(competitor_2[fold][subset][pb_name]['pred'])\n",
    "                ))\n",
    "\n",
    "    for subset in SUBSETS:\n",
    "        jaccard_scores[subset]['values'] = np.array(\n",
    "            jaccard_scores[subset]['values'])\n",
    "        jaccard_scores[subset]['mean'] = np.mean(\n",
    "            jaccard_scores[subset]['values'])\n",
    "        jaccard_scores[subset]['std'] = np.std(\n",
    "            jaccard_scores[subset]['values'])\n",
    "\n",
    "    return jaccard_scores\n",
    "\n",
    "def calculate_jaccard_matrix():\n",
    "    results = {}\n",
    "    matrix_models = BEST_MODELS['val']\n",
    "    for exp_name_1, model_id_1 in matrix_models:\n",
    "        results[exp_name_1] = {}\n",
    "        for exp_name_2, model_id_2 in matrix_models:\n",
    "            results[exp_name_1][exp_name_2] = calculate_jaccard(\n",
    "                exp_name_1, model_id_1, exp_name_2, model_id_2\n",
    "            )\n",
    "\n",
    "    matrices = {\n",
    "        subset: []\n",
    "        for subset in SUBSETS\n",
    "    }\n",
    "    headers = []\n",
    "    for exp_name_1, model_id_1 in matrix_models:\n",
    "        headers.append(exp_name_1)\n",
    "        row = {\n",
    "            subset: []\n",
    "            for subset in SUBSETS\n",
    "        }\n",
    "        for exp_name_2, model_id_2 in matrix_models:\n",
    "            for subset in SUBSETS:\n",
    "                if exp_name_1 != exp_name_2:\n",
    "                    row[subset].append(\n",
    "                        results[exp_name_1][exp_name_2][subset]['mean'])\n",
    "                else:\n",
    "                    row[subset].append(0.0)\n",
    "        for subset in SUBSETS:\n",
    "            matrices[subset].append(np.array(row[subset]))\n",
    "\n",
    "    for subset in SUBSETS:\n",
    "        matrices[subset] = np.stack(matrices[subset])\n",
    "\n",
    "    return matrices, headers, results\n"
   ]
  },
  {
   "cell_type": "code",
   "execution_count": 2,
   "metadata": {},
   "outputs": [
    {
     "data": {
      "text/plain": [
       "['hp_pr', 'hp_po', 'hp_tf', 'hp_cr', 'hp_sh', 'hp_ro']"
      ]
     },
     "execution_count": 2,
     "metadata": {},
     "output_type": "execute_result"
    }
   ],
   "source": [
    "matrices, headers, results = calculate_jaccard_matrix()\n",
    "headers"
   ]
  },
  {
   "cell_type": "code",
   "execution_count": 3,
   "metadata": {},
   "outputs": [
    {
     "data": {
      "text/plain": [
       "array([[0.        , 0.71424983, 0.7003653 , 0.62143328, 0.68975907,\n",
       "        0.71234552],\n",
       "       [0.71424983, 0.        , 0.7087867 , 0.63409125, 0.68027566,\n",
       "        0.67943925],\n",
       "       [0.7003653 , 0.7087867 , 0.        , 0.65217479, 0.67763455,\n",
       "        0.70020084],\n",
       "       [0.62143328, 0.63409125, 0.65217479, 0.        , 0.64167567,\n",
       "        0.65605403],\n",
       "       [0.68975907, 0.68027566, 0.67763455, 0.64167567, 0.        ,\n",
       "        0.68949757],\n",
       "       [0.71234552, 0.67943925, 0.70020084, 0.65605403, 0.68949757,\n",
       "        0.        ]])"
      ]
     },
     "execution_count": 3,
     "metadata": {},
     "output_type": "execute_result"
    }
   ],
   "source": [
    "matrices['val']"
   ]
  },
  {
   "cell_type": "code",
   "execution_count": 5,
   "metadata": {},
   "outputs": [
    {
     "name": "stdout",
     "output_type": "stream",
     "text": [
      "Collecting scipy\n",
      "  Downloading scipy-1.9.1-cp38-cp38-manylinux_2_17_x86_64.manylinux2014_x86_64.whl (43.4 MB)\n",
      "\u001b[K     |████████████████████████████████| 43.4 MB 511 kB/s  eta 0:00:01\n",
      "\u001b[?25hRequirement already satisfied: numpy<1.25.0,>=1.18.5 in /opt/conda/lib/python3.8/site-packages (from scipy) (1.23.3)\n",
      "Installing collected packages: scipy\n",
      "Successfully installed scipy-1.9.1\n"
     ]
    }
   ],
   "source": [
    "!pip install scipy"
   ]
  },
  {
   "cell_type": "code",
   "execution_count": 6,
   "metadata": {},
   "outputs": [],
   "source": [
    "from scipy.cluster.hierarchy import dendrogram, linkage\n",
    "from scipy.spatial.distance import squareform\n",
    "\n",
    "import matplotlib.pyplot as plt"
   ]
  },
  {
   "cell_type": "code",
   "execution_count": 7,
   "metadata": {},
   "outputs": [],
   "source": [
    "def best_model_id(exp_name):\n",
    "    return [best_model[1] for best_model in BEST_MODELS['val'] if exp_name in best_model[0]][0]\n",
    "\n",
    "display_headers = [f'{header.split(\"_\")[1].upper()}-{best_model_id(header)}' for header in headers]"
   ]
  },
  {
   "cell_type": "code",
   "execution_count": 8,
   "metadata": {},
   "outputs": [
    {
     "data": {
      "image/png": "[encoded data removed]",
      "text/plain": [
       "<Figure size 1152x360 with 1 Axes>"
      ]
     },
     "metadata": {
      "needs_background": "light"
     },
     "output_type": "display_data"
    }
   ],
   "source": [
    "plt.figure(figsize=(16, 5))\n",
    "dists = squareform(matrices['val'])\n",
    "linkage_matrix = linkage(dists, \"single\")\n",
    "dendrogram(linkage_matrix, labels=display_headers)\n",
    "plt.title(\"Conjunto de validación\")\n",
    "plt.show()"
   ]
  },
  {
   "cell_type": "code",
   "execution_count": 11,
   "metadata": {},
   "outputs": [
    {
     "data": {
      "image/png": "[encoded data removed]",
      "text/plain": [
       "<Figure size 1152x360 with 1 Axes>"
      ]
     },
     "metadata": {
      "needs_background": "light"
     },
     "output_type": "display_data"
    }
   ],
   "source": [
    "plt.figure(figsize=(16, 5))\n",
    "dists = squareform(matrices['test'])\n",
    "linkage_matrix = linkage(dists, \"single\")\n",
    "dendrogram(linkage_matrix, labels=display_headers)\n",
    "plt.title(\"Conjunto de prueba\")\n",
    "plt.show()"
   ]
  },
  {
   "cell_type": "code",
   "execution_count": null,
   "metadata": {},
   "outputs": [],
   "source": []
  }
 ],
 "metadata": {
  "kernelspec": {
   "display_name": "Python 3",
   "language": "python",
   "name": "python3"
  },
  "language_info": {
   "codemirror_mode": {
    "name": "ipython",
    "version": 3
   },
   "file_extension": ".py",
   "mimetype": "text/x-python",
   "name": "python",
   "nbconvert_exporter": "python",
   "pygments_lexer": "ipython3",
   "version": "3.8.8"
  }
 },
 "nbformat": 4,
 "nbformat_minor": 4
}
