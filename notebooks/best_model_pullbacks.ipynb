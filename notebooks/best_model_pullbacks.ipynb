{
 "cells": [
  {
   "cell_type": "code",
   "execution_count": 2,
   "metadata": {},
   "outputs": [
    {
     "name": "stdout",
     "output_type": "stream",
     "text": [
      "Collecting numpy\n",
      "  Downloading numpy-1.23.3-cp38-cp38-manylinux_2_17_x86_64.manylinux2014_x86_64.whl (17.1 MB)\n",
      "\u001b[K     |████████████████████████████████| 17.1 MB 14.0 MB/s eta 0:00:01\n",
      "\u001b[?25hCollecting matplotlib\n",
      "  Downloading matplotlib-3.6.0-cp38-cp38-manylinux_2_12_x86_64.manylinux2010_x86_64.whl (9.4 MB)\n",
      "\u001b[K     |████████████████████████████████| 9.4 MB 52.6 MB/s eta 0:00:01\n",
      "\u001b[?25hRequirement already satisfied: packaging>=20.0 in /opt/conda/lib/python3.8/site-packages (from matplotlib) (20.9)\n",
      "Requirement already satisfied: pyparsing>=2.2.1 in /opt/conda/lib/python3.8/site-packages (from matplotlib) (2.4.7)\n",
      "Collecting pillow>=6.2.0\n",
      "  Downloading Pillow-9.2.0-cp38-cp38-manylinux_2_28_x86_64.whl (3.2 MB)\n",
      "\u001b[K     |████████████████████████████████| 3.2 MB 65.4 MB/s eta 0:00:01\n",
      "\u001b[?25hRequirement already satisfied: python-dateutil>=2.7 in /opt/conda/lib/python3.8/site-packages (from matplotlib) (2.8.1)\n",
      "Collecting contourpy>=1.0.1\n",
      "  Downloading contourpy-1.0.5-cp38-cp38-manylinux_2_17_x86_64.manylinux2014_x86_64.whl (295 kB)\n",
      "\u001b[K     |████████████████████████████████| 295 kB 38.5 MB/s eta 0:00:01\n",
      "\u001b[?25hCollecting fonttools>=4.22.0\n",
      "  Downloading fonttools-4.37.2-py3-none-any.whl (959 kB)\n",
      "\u001b[K     |████████████████████████████████| 959 kB 68.6 MB/s eta 0:00:01\n",
      "\u001b[?25hCollecting kiwisolver>=1.0.1\n",
      "  Downloading kiwisolver-1.4.4-cp38-cp38-manylinux_2_5_x86_64.manylinux1_x86_64.whl (1.2 MB)\n",
      "\u001b[K     |████████████████████████████████| 1.2 MB 36.5 MB/s eta 0:00:01\n",
      "\u001b[?25hCollecting cycler>=0.10\n",
      "  Downloading cycler-0.11.0-py3-none-any.whl (6.4 kB)\n",
      "Requirement already satisfied: six>=1.5 in /opt/conda/lib/python3.8/site-packages (from python-dateutil>=2.7->matplotlib) (1.16.0)\n",
      "Installing collected packages: numpy, pillow, kiwisolver, fonttools, cycler, contourpy, matplotlib\n",
      "Successfully installed contourpy-1.0.5 cycler-0.11.0 fonttools-4.37.2 kiwisolver-1.4.4 matplotlib-3.6.0 numpy-1.23.3 pillow-9.2.0\n"
     ]
    }
   ],
   "source": [
    "!pip install numpy matplotlib"
   ]
  },
  {
   "cell_type": "code",
   "execution_count": 27,
   "metadata": {},
   "outputs": [],
   "source": [
    "import json\n",
    "from math import ceil\n",
    "import numpy as np\n",
    "from os.path import join\n",
    "import matplotlib.pyplot as plt\n",
    "from pathlib import Path\n",
    "\n",
    "RESULTS_FOLDER = Path.cwd() / 'work' / 'results'\n",
    "SUBSETS = ['train_cnn', 'val', 'train_rnn', 'test']\n",
    "FOLDS = [str(fold) for fold in range(1, 11)]\n",
    "\n",
    "\n",
    "BEST_MODELS = {\n",
    "    'test': [\n",
    "        ('hp_pr', '29'),\n",
    "        ('hp_po', '63'),\n",
    "        ('hp_tf', '5'),\n",
    "        ('hp_cr', '56'),\n",
    "        ('hp_sh', '66'),\n",
    "        ('hp_ro', '14'),\n",
    "    ],\n",
    "    'val': [\n",
    "        ('hp_pr', '57'),\n",
    "        ('hp_po', '63'),\n",
    "        ('hp_tf', '69'),\n",
    "        ('hp_cr', '55'),\n",
    "        ('hp_sh', '72'),\n",
    "        ('hp_ro', '33'),\n",
    "    ]\n",
    "}\n",
    "\n",
    "def get_metrics(exp_name, model_id):\n",
    "    metrics_path = RESULTS_FOLDER / exp_name / f'model_{model_id}' / 'metrics.json'\n",
    "    \n",
    "    with open(metrics_path, 'r') as metrics_json:\n",
    "        metrics_file = json.load(metrics_json)\n",
    "\n",
    "    return metrics_file['metrics']\n",
    "\n",
    "def n_bins(values):\n",
    "    sorted_values = sorted(values)\n",
    "    length = len(sorted_values)\n",
    "    q1 = ceil(length / 4)\n",
    "    q3 = ceil(length * 3 / 4)\n",
    "    IQR = sorted_values[q3 - 1] - sorted_values[q1 - 1]\n",
    "    h = 2 * IQR * (length ** (-1/3))\n",
    "    max_value = values[-1]\n",
    "    min_value = values[0]\n",
    "    return ceil((max_value - min_value) / h)"
   ]
  },
  {
   "cell_type": "code",
   "execution_count": 66,
   "metadata": {},
   "outputs": [],
   "source": [
    "model_metrics = get_metrics('hp_po', '63')"
   ]
  },
  {
   "cell_type": "code",
   "execution_count": 14,
   "metadata": {},
   "outputs": [
    {
     "data": {
      "text/plain": [
       "dict_keys(['f1', 'rec', 'fp', 'pre', 'fn', 'acc', 'total', 'tp', 'tn', 'real', 'pred'])"
      ]
     },
     "execution_count": 14,
     "metadata": {},
     "output_type": "execute_result"
    }
   ],
   "source": [
    "model_metrics['1']['test']['33_PDNRKIBC'].keys()"
   ]
  },
  {
   "cell_type": "code",
   "execution_count": 47,
   "metadata": {},
   "outputs": [],
   "source": [
    "def generate_model_f1_scores(model_type, model_id, data_set_name):\n",
    "    model_metrics = get_metrics(model_type, model_id)\n",
    "    f1_scores = [\n",
    "        {\n",
    "            'pb_name': pb_name,\n",
    "            'f1': model_metrics[fold][data_set_name][pb_name]['f1'],\n",
    "        }\n",
    "        for fold in FOLDS\n",
    "        for pb_name in model_metrics[fold][data_set_name].keys()\n",
    "\n",
    "    ]\n",
    "    f1_scores.sort(key=lambda item: item['f1'])\n",
    "    return [item['f1'] for item in f1_scores]"
   ]
  },
  {
   "cell_type": "code",
   "execution_count": 67,
   "metadata": {},
   "outputs": [],
   "source": [
    "f1_scores = [\n",
    "    {\n",
    "        'pb_name': pb_name,\n",
    "        'f1': model_metrics[fold]['test'][pb_name]['f1'],\n",
    "    }\n",
    "    for fold in FOLDS\n",
    "    for pb_name in model_metrics[fold]['test'].keys()\n",
    "    \n",
    "]\n",
    "f1_scores.sort(key=lambda item: item['f1'])"
   ]
  },
  {
   "cell_type": "code",
   "execution_count": 17,
   "metadata": {},
   "outputs": [],
   "source": [
    "def display_scores(scores):\n",
    "    for score in scores:\n",
    "        print(f'{score[\"pb_name\"]} & ${score[\"f1\"]:.2f}$ \\\\\\\\')"
   ]
  },
  {
   "cell_type": "markdown",
   "metadata": {},
   "source": [
    "### Peores"
   ]
  },
  {
   "cell_type": "code",
   "execution_count": 68,
   "metadata": {},
   "outputs": [
    {
     "name": "stdout",
     "output_type": "stream",
     "text": [
      "20_PD6M9KHG & $0.00$ \\\\\n",
      "64_PDJJP4QL & $0.00$ \\\\\n",
      "48_PDKS3P67 & $0.00$ \\\\\n",
      "43_PDQWC1XR & $0.00$ \\\\\n",
      "03_PDJP9L2M & $0.00$ \\\\\n"
     ]
    }
   ],
   "source": [
    "display_scores(f1_scores[:5])"
   ]
  },
  {
   "cell_type": "markdown",
   "metadata": {},
   "source": [
    "### Intermedios"
   ]
  },
  {
   "cell_type": "code",
   "execution_count": 69,
   "metadata": {},
   "outputs": [
    {
     "name": "stdout",
     "output_type": "stream",
     "text": [
      "72_PD2D493T & $0.71$ \\\\\n",
      "47_PDGSQ7BF & $0.71$ \\\\\n",
      "52_PDOYQKSY & $0.71$ \\\\\n",
      "71_PD51BBXI & $0.72$ \\\\\n",
      "26_PDILCBKV & $0.73$ \\\\\n"
     ]
    }
   ],
   "source": [
    "display_scores(f1_scores[38:43])"
   ]
  },
  {
   "cell_type": "markdown",
   "metadata": {},
   "source": [
    "### Mejores"
   ]
  },
  {
   "cell_type": "code",
   "execution_count": 70,
   "metadata": {},
   "outputs": [
    {
     "name": "stdout",
     "output_type": "stream",
     "text": [
      "13_PD2SW1EO & $1.00$ \\\\\n",
      "69_PDNVGH7Z & $1.00$ \\\\\n",
      "65_PDY5C128 & $1.00$ \\\\\n",
      "15_PDX94EF7 & $1.00$ \\\\\n",
      "70_PDUPMC2M & $1.00$ \\\\\n"
     ]
    }
   ],
   "source": [
    "display_scores(f1_scores[-5:])"
   ]
  },
  {
   "cell_type": "code",
   "execution_count": 62,
   "metadata": {},
   "outputs": [],
   "source": [
    "def setup_plot(axis, model, f1_scores, show_x_label, show_y_label, y_lim=37):\n",
    "    axis.grid(axis='y')\n",
    "    axis.set_axisbelow(True)\n",
    "    if show_x_label: axis.set_xlabel('F1 Score')\n",
    "    if show_y_label: axis.set_ylabel('# Pullbacks')\n",
    "    axis.set_ylim(0, y_lim)\n",
    "    axis.set_title(f'{model[0][-2:]}-{model[1]}'.upper())\n",
    "    axis.hist(f1_scores, bins=n_bins(f1_scores))"
   ]
  },
  {
   "cell_type": "code",
   "execution_count": 42,
   "metadata": {},
   "outputs": [],
   "source": [
    "def generate_all_f1_scores(model_set_name, data_set_name):\n",
    "    for model in BEST_MODELS[model_set_name]:\n",
    "        yield model, generate_model_f1_scores(*model, data_set_name)"
   ]
  },
  {
   "cell_type": "code",
   "execution_count": 21,
   "metadata": {},
   "outputs": [],
   "source": [
    "def should_show_labels(row_index, col_index):\n",
    "    if col_index == 0 and row_index == 2:\n",
    "        return (True, True)\n",
    "    if row_index == 2:\n",
    "        return (True, False)\n",
    "    if col_index == 0:\n",
    "        return (False, True)\n",
    "    return (False, False)"
   ]
  },
  {
   "cell_type": "markdown",
   "metadata": {},
   "source": [
    "### Mejores modelos según validación. F1 sobre conjunto de Prueba"
   ]
  },
  {
   "cell_type": "code",
   "execution_count": 63,
   "metadata": {},
   "outputs": [
    {
     "data": {
      "image/png": "[encoded data removed]",
      "text/plain": [
       "<Figure size 936x1224 with 6 Axes>"
      ]
     },
     "metadata": {
      "needs_background": "light"
     },
     "output_type": "display_data"
    }
   ],
   "source": [
    "plt.rc('axes', labelsize=13, titlesize=15)\n",
    "plt.rc('xtick', labelsize=11) \n",
    "plt.rc('ytick', labelsize=11)\n",
    "fig = plt.figure(figsize=(13, 17))\n",
    "gs = fig.add_gridspec(3, 2, hspace=0.2, wspace=0)\n",
    "axises = gs.subplots(sharey='row')\n",
    "all_f1_scores = generate_all_f1_scores('val', 'test')\n",
    "\n",
    "for row_index, row in enumerate(axises):\n",
    "    for col_index, axis in enumerate(row):\n",
    "        model, f1_scores = next(all_f1_scores)\n",
    "        show_x_label, show_y_label = should_show_labels(row_index, col_index)\n",
    "        setup_plot(axis, model, f1_scores, show_x_label, show_y_label)"
   ]
  },
  {
   "cell_type": "markdown",
   "metadata": {},
   "source": [
    "### Histograma: Mejores modelos según validación. F1 sobre conjunto de Validación"
   ]
  },
  {
   "cell_type": "code",
   "execution_count": 65,
   "metadata": {},
   "outputs": [
    {
     "data": {
      "image/png": "[encoded data removed]",
      "text/plain": [
       "<Figure size 936x1224 with 6 Axes>"
      ]
     },
     "metadata": {
      "needs_background": "light"
     },
     "output_type": "display_data"
    }
   ],
   "source": [
    "plt.rc('axes', labelsize=13, titlesize=15)\n",
    "plt.rc('xtick', labelsize=11) \n",
    "plt.rc('ytick', labelsize=11)\n",
    "fig = plt.figure(figsize=(13, 17))\n",
    "gs = fig.add_gridspec(3, 2, hspace=0.2, wspace=0)\n",
    "axises = gs.subplots(sharey='row')\n",
    "all_f1_scores = generate_all_f1_scores('val', 'val')\n",
    "\n",
    "for row_index, row in enumerate(axises):\n",
    "    for col_index, axis in enumerate(row):\n",
    "        model, f1_scores = next(all_f1_scores)\n",
    "        show_x_label, show_y_label = should_show_labels(row_index, col_index)\n",
    "        setup_plot(axis, model, f1_scores, show_x_label, show_y_label, y_lim=34)"
   ]
  },
  {
   "cell_type": "markdown",
   "metadata": {},
   "source": [
    "### Boxplot: Mejores modelos según validación. F1 sobre conjunto de prueba"
   ]
  },
  {
   "cell_type": "code",
   "execution_count": 53,
   "metadata": {},
   "outputs": [
    {
     "data": {
      "text/plain": [
       "[None, Text(0.5, 0, 'Modelo'), Text(0, 0.5, '$\\\\overline{F}_1$')]"
      ]
     },
     "execution_count": 53,
     "metadata": {},
     "output_type": "execute_result"
    },
    {
     "data": {
      "image/png": "[encoded data removed]",
      "text/plain": [
       "<Figure size 1080x432 with 1 Axes>"
      ]
     },
     "metadata": {
      "needs_background": "light"
     },
     "output_type": "display_data"
    }
   ],
   "source": [
    "plt.rc('axes', labelsize=16, titlesize=16)\n",
    "plt.rc('xtick', labelsize=14) \n",
    "plt.rc('ytick', labelsize=12)\n",
    "\n",
    "fig = plt.figure(figsize=(15,6))\n",
    "gs = fig.add_gridspec(1, 1, hspace=0.2, wspace=0)\n",
    "axis = gs.subplots(sharey='row')\n",
    "\n",
    "labels = [f'{model_type[-2:]}-{model_id}'.upper() for model_type, model_id in BEST_MODELS['val']]\n",
    "\n",
    "axis.hlines(\n",
    "    y=0.5,\n",
    "    xmin=0.5,\n",
    "    xmax=6.5,\n",
    "    colors='g',\n",
    "    linestyles='--',\n",
    "    lw=1,\n",
    ")\n",
    "axis.boxplot([scores for model, scores in generate_all_f1_scores('val', 'test')], labels=labels)\n",
    "\n",
    "axis.yaxis.grid(True, linestyle='-', which='major', color='lightgrey',\n",
    "               alpha=0.5)\n",
    "\n",
    "axis.set(\n",
    "    axisbelow=True,\n",
    "    xlabel='Modelo',\n",
    "    ylabel=r'$\\overline{F}_1$',\n",
    ")"
   ]
  },
  {
   "cell_type": "code",
   "execution_count": 32,
   "metadata": {},
   "outputs": [],
   "source": [
    "def custom_exp(np_array):\n",
    "    return np.exp(np_array) - 1"
   ]
  },
  {
   "cell_type": "code",
   "execution_count": 33,
   "metadata": {},
   "outputs": [],
   "source": [
    "def identity(x):\n",
    "    return x"
   ]
  },
  {
   "cell_type": "code",
   "execution_count": 34,
   "metadata": {},
   "outputs": [],
   "source": [
    "def add_n(n):\n",
    "    def f(x):\n",
    "        return x + n\n",
    "    return f"
   ]
  },
  {
   "cell_type": "code",
   "execution_count": 35,
   "metadata": {},
   "outputs": [],
   "source": [
    "def mult_n(n):\n",
    "    def f(x):\n",
    "        return x * n\n",
    "    return f"
   ]
  },
  {
   "cell_type": "code",
   "execution_count": 36,
   "metadata": {},
   "outputs": [],
   "source": [
    "def custom_log(np_array):\n",
    "    return np.log(np_array)"
   ]
  },
  {
   "cell_type": "code",
   "execution_count": 48,
   "metadata": {},
   "outputs": [],
   "source": [
    "def transform_all_f1_scores(x_fun, y_fun, model_set_name, data_set_name):\n",
    "    for model in BEST_MODELS[model_set_name]:\n",
    "        scores = [\n",
    "            x_fun(score)\n",
    "            for score in generate_model_f1_scores(*model, data_set_name)\n",
    "        ]\n",
    "        yield model, y_fun(scores)"
   ]
  },
  {
   "cell_type": "code",
   "execution_count": 94,
   "metadata": {},
   "outputs": [
    {
     "data": {
      "text/plain": [
       "1.718281828459045"
      ]
     },
     "execution_count": 94,
     "metadata": {},
     "output_type": "execute_result"
    }
   ],
   "source": [
    "custom_exp(1)"
   ]
  },
  {
   "cell_type": "code",
   "execution_count": 54,
   "metadata": {},
   "outputs": [
    {
     "data": {
      "text/plain": [
       "[None,\n",
       " Text(0.5, 0, 'Modelo'),\n",
       " Text(0, 0.5, '$\\\\mathrm{exp}(2\\\\cdot \\\\overline{F}_1) - 1$')]"
      ]
     },
     "execution_count": 54,
     "metadata": {},
     "output_type": "execute_result"
    },
    {
     "data": {
      "image/png": "[encoded data removed]",
      "text/plain": [
       "<Figure size 1080x432 with 1 Axes>"
      ]
     },
     "metadata": {
      "needs_background": "light"
     },
     "output_type": "display_data"
    }
   ],
   "source": [
    "add_1 = add_n(1)\n",
    "mult_2 = mult_n(2)\n",
    "\n",
    "mid_point = custom_exp(mult_2(0.5))\n",
    "\n",
    "plt.rc('axes', labelsize=16, titlesize=16)\n",
    "plt.rc('xtick', labelsize=14) \n",
    "plt.rc('ytick', labelsize=12)\n",
    "\n",
    "fig = plt.figure(figsize=(15,6))\n",
    "gs = fig.add_gridspec(1, 1, hspace=0.2, wspace=0)\n",
    "axis = gs.subplots(sharey='row')\n",
    "\n",
    "labels = [f'{model_type[-2:]}-{model_id}'.upper() for model_type, model_id in BEST_MODELS['val']]\n",
    "\n",
    "axis.hlines(\n",
    "    y=mid_point,\n",
    "    xmin=0.5,\n",
    "    xmax=6.5,\n",
    "    colors='g',\n",
    "    linestyles='--',\n",
    "    lw=1,\n",
    ")\n",
    "axis.boxplot([scores for model, scores in transform_all_f1_scores(mult_2, custom_exp, 'val', 'test')], labels=labels)\n",
    "\n",
    "axis.yaxis.grid(True, linestyle='-', which='major', color='lightgrey',\n",
    "               alpha=0.5)\n",
    "\n",
    "axis.set(\n",
    "    axisbelow=True,\n",
    "    xlabel='Modelo',\n",
    "    ylabel=r'$\\mathrm{exp}(2\\cdot \\overline{F}_1) - 1$',\n",
    ")"
   ]
  },
  {
   "cell_type": "markdown",
   "metadata": {},
   "source": [
    "### Boxplot: Mejores modelos según validación. F1 sobre conjunto de validación"
   ]
  },
  {
   "cell_type": "code",
   "execution_count": 51,
   "metadata": {},
   "outputs": [
    {
     "data": {
      "text/plain": [
       "[None, Text(0.5, 0, 'Modelo'), Text(0, 0.5, '$\\\\overline{F}_1$')]"
      ]
     },
     "execution_count": 51,
     "metadata": {},
     "output_type": "execute_result"
    },
    {
     "data": {
      "image/png": "[encoded data removed]",
      "text/plain": [
       "<Figure size 1080x432 with 1 Axes>"
      ]
     },
     "metadata": {
      "needs_background": "light"
     },
     "output_type": "display_data"
    }
   ],
   "source": [
    "plt.rc('axes', labelsize=16, titlesize=16)\n",
    "plt.rc('xtick', labelsize=14) \n",
    "plt.rc('ytick', labelsize=12)\n",
    "\n",
    "fig = plt.figure(figsize=(15,6))\n",
    "gs = fig.add_gridspec(1, 1, hspace=0.2, wspace=0)\n",
    "axis = gs.subplots(sharey='row')\n",
    "\n",
    "labels = [f'{model_type[-2:]}-{model_id}'.upper() for model_type, model_id in BEST_MODELS['val']]\n",
    "\n",
    "axis.hlines(\n",
    "    y=0.5,\n",
    "    xmin=0.5,\n",
    "    xmax=6.5,\n",
    "    colors='g',\n",
    "    linestyles='--',\n",
    "    lw=1,\n",
    ")\n",
    "axis.boxplot([scores for model, scores in generate_all_f1_scores('val', 'val')], labels=labels)\n",
    "\n",
    "axis.yaxis.grid(True, linestyle='-', which='major', color='lightgrey',\n",
    "               alpha=0.5)\n",
    "\n",
    "axis.set(\n",
    "    axisbelow=True,\n",
    "    xlabel='Modelo',\n",
    "    ylabel=r'$\\overline{F}_1$',\n",
    ")"
   ]
  },
  {
   "cell_type": "code",
   "execution_count": 52,
   "metadata": {},
   "outputs": [
    {
     "data": {
      "text/plain": [
       "[None,\n",
       " Text(0.5, 0, 'Modelo'),\n",
       " Text(0, 0.5, '$\\\\mathrm{exp}(2\\\\cdot \\\\overline{F}_1) - 1$')]"
      ]
     },
     "execution_count": 52,
     "metadata": {},
     "output_type": "execute_result"
    },
    {
     "data": {
      "image/png": "[encoded data removed]",
      "text/plain": [
       "<Figure size 1080x432 with 1 Axes>"
      ]
     },
     "metadata": {
      "needs_background": "light"
     },
     "output_type": "display_data"
    }
   ],
   "source": [
    "add_1 = add_n(1)\n",
    "mult_2 = mult_n(2)\n",
    "\n",
    "mid_point = custom_exp(mult_2(0.5))\n",
    "\n",
    "plt.rc('axes', labelsize=16, titlesize=16)\n",
    "plt.rc('xtick', labelsize=14) \n",
    "plt.rc('ytick', labelsize=12)\n",
    "\n",
    "fig = plt.figure(figsize=(15,6))\n",
    "gs = fig.add_gridspec(1, 1, hspace=0.2, wspace=0)\n",
    "axis = gs.subplots(sharey='row')\n",
    "\n",
    "labels = [f'{model_type[-2:]}-{model_id}'.upper() for model_type, model_id in BEST_MODELS['val']]\n",
    "\n",
    "axis.hlines(\n",
    "    y=mid_point,\n",
    "    xmin=0.5,\n",
    "    xmax=6.5,\n",
    "    colors='g',\n",
    "    linestyles='--',\n",
    "    lw=1,\n",
    ")\n",
    "axis.boxplot([scores for model, scores in transform_all_f1_scores(mult_2, custom_exp, 'val', 'val')], labels=labels)\n",
    "\n",
    "axis.yaxis.grid(True, linestyle='-', which='major', color='lightgrey',\n",
    "               alpha=0.5)\n",
    "\n",
    "axis.set(\n",
    "    axisbelow=True,\n",
    "    xlabel='Modelo',\n",
    "    ylabel=r'$\\mathrm{exp}(2\\cdot \\overline{F}_1) - 1$',\n",
    ")"
   ]
  },
  {
   "cell_type": "code",
   "execution_count": 31,
   "metadata": {},
   "outputs": [],
   "source": [
    "log_1 = np.log([value + 1 for value in x_hp_pr_29])"
   ]
  },
  {
   "cell_type": "code",
   "execution_count": 32,
   "metadata": {},
   "outputs": [],
   "source": [
    "exp_1 = np.exp(x_hp_pr_29)"
   ]
  },
  {
   "cell_type": "code",
   "execution_count": 82,
   "metadata": {},
   "outputs": [],
   "source": [
    "exp_2 = np.exp([value for value in x_hp_pr_29]) - 1"
   ]
  },
  {
   "cell_type": "code",
   "execution_count": 119,
   "metadata": {},
   "outputs": [],
   "source": [
    "exp_3 = np.exp([2 * value for value in x_hp_pr_29]) - 1"
   ]
  },
  {
   "cell_type": "code",
   "execution_count": 120,
   "metadata": {},
   "outputs": [
    {
     "data": {
      "image/png": "[encoded data removed]",
      "text/plain": [
       "<Figure size 432x288 with 1 Axes>"
      ]
     },
     "metadata": {
      "needs_background": "light"
     },
     "output_type": "display_data"
    }
   ],
   "source": [
    "plt.plot(x_hp_pr_29, x_hp_pr_29)\n",
    "plt.plot(x_hp_pr_29, exp_2)\n",
    "\n",
    "plt.show()"
   ]
  },
  {
   "cell_type": "code",
   "execution_count": null,
   "metadata": {},
   "outputs": [],
   "source": []
  }
 ],
 "metadata": {
  "kernelspec": {
   "display_name": "Python 3",
   "language": "python",
   "name": "python3"
  }
 },
 "nbformat": 4,
 "nbformat_minor": 4
}
