{
 "cells": [
  {
   "cell_type": "code",
   "execution_count": 65,
   "metadata": {},
   "outputs": [],
   "source": [
    "import json\n",
    "from math import ceil\n",
    "import numpy as np\n",
    "from os.path import join\n",
    "import matplotlib.pyplot as plt\n",
    "\n",
    "RESULTS_FOLDER = '../results'\n",
    "SUBSETS = ['train_cnn', 'val', 'train_rnn', 'test']\n",
    "FOLDS = [str(fold) for fold in range(1, 11)]\n",
    "BEST_MODELS = [\n",
    "    ('hp_pr', '29'),\n",
    "    ('hp_po', '63'),\n",
    "    ('hp_tf', '5'),\n",
    "    ('hp_cr', '56'),\n",
    "    ('hp_sh', '66'),\n",
    "    ('hp_ro', '14'),\n",
    "]\n",
    "\n",
    "def get_metrics(exp_name, model_id):\n",
    "    metrics_path = join(\n",
    "        RESULTS_FOLDER, exp_name, f'model_{model_id}', 'metrics.json'\n",
    "    )\n",
    "    with open(metrics_path, 'r') as metrics_json:\n",
    "        metrics_file = json.load(metrics_json)\n",
    "\n",
    "    return metrics_file['metrics']\n",
    "\n",
    "def n_bins(values):\n",
    "    sorted_values = sorted(values)\n",
    "    length = len(sorted_values)\n",
    "    q1 = ceil(length / 4)\n",
    "    q3 = ceil(length * 3 / 4)\n",
    "    IQR = sorted_values[q3 - 1] - sorted_values[q1 - 1]\n",
    "    h = 2 * IQR * (length ** (-1/3))\n",
    "    max_value = values[-1]\n",
    "    min_value = values[0]\n",
    "    return ceil((max_value - min_value) / h)"
   ]
  },
  {
   "cell_type": "code",
   "execution_count": 3,
   "metadata": {},
   "outputs": [],
   "source": [
    "model_metrics = get_metrics('hp_tf', '5')"
   ]
  },
  {
   "cell_type": "code",
   "execution_count": 4,
   "metadata": {},
   "outputs": [
    {
     "data": {
      "text/plain": [
       "dict_keys(['f1', 'rec', 'fp', 'pre', 'fn', 'acc', 'total', 'tp', 'tn', 'real', 'pred'])"
      ]
     },
     "execution_count": 4,
     "metadata": {},
     "output_type": "execute_result"
    }
   ],
   "source": [
    "model_metrics['1']['test']['33_PDNRKIBC'].keys()"
   ]
  },
  {
   "cell_type": "code",
   "execution_count": 40,
   "metadata": {},
   "outputs": [],
   "source": [
    "def generate_model_f1_scores(model_type, model_id):\n",
    "    model_metrics = get_metrics(model_type, model_id)\n",
    "    f1_scores = [\n",
    "        {\n",
    "            'pb_name': pb_name,\n",
    "            'f1': model_metrics[fold]['test'][pb_name]['f1'],\n",
    "        }\n",
    "        for fold in FOLDS\n",
    "        for pb_name in model_metrics[fold]['test'].keys()\n",
    "\n",
    "    ]\n",
    "    f1_scores.sort(key=lambda item: item['f1'])\n",
    "    return [item['f1'] for item in f1_scores]"
   ]
  },
  {
   "cell_type": "code",
   "execution_count": 5,
   "metadata": {},
   "outputs": [],
   "source": [
    "f1_scores = [\n",
    "    {\n",
    "        'pb_name': pb_name,\n",
    "        'f1': model_metrics[fold]['test'][pb_name]['f1'],\n",
    "    }\n",
    "    for fold in FOLDS\n",
    "    for pb_name in model_metrics[fold]['test'].keys()\n",
    "    \n",
    "]\n",
    "f1_scores.sort(key=lambda item: item['f1'])"
   ]
  },
  {
   "cell_type": "code",
   "execution_count": 6,
   "metadata": {},
   "outputs": [],
   "source": [
    "def display_scores(scores):\n",
    "    for score in scores:\n",
    "        print(f'{score[\"pb_name\"]} & ${score[\"f1\"]:.2f}$ \\\\\\\\')"
   ]
  },
  {
   "cell_type": "markdown",
   "metadata": {},
   "source": [
    "### Peores"
   ]
  },
  {
   "cell_type": "code",
   "execution_count": 7,
   "metadata": {},
   "outputs": [
    {
     "name": "stdout",
     "output_type": "stream",
     "text": [
      "20_PD6M9KHG & $0.00$ \\\\\n",
      "64_PDJJP4QL & $0.00$ \\\\\n",
      "01_PD796ARA & $0.00$ \\\\\n",
      "48_PDKS3P67 & $0.00$ \\\\\n",
      "43_PDQWC1XR & $0.00$ \\\\\n"
     ]
    }
   ],
   "source": [
    "display_scores(f1_scores[:5])"
   ]
  },
  {
   "cell_type": "markdown",
   "metadata": {},
   "source": [
    "### Intermedios"
   ]
  },
  {
   "cell_type": "code",
   "execution_count": 46,
   "metadata": {},
   "outputs": [
    {
     "name": "stdout",
     "output_type": "stream",
     "text": [
      "38_PDRNCFK4 & $0.69$ \\\\\n",
      "12_PDMAXIGK & $0.70$ \\\\\n",
      "19_PDSTFKAK & $0.71$ \\\\\n",
      "79_PD9S31N6 & $0.72$ \\\\\n",
      "46_PD2DK5KB & $0.74$ \\\\\n"
     ]
    }
   ],
   "source": [
    "display_scores(f1_scores[38:43])"
   ]
  },
  {
   "cell_type": "markdown",
   "metadata": {},
   "source": [
    "### Mejores"
   ]
  },
  {
   "cell_type": "code",
   "execution_count": 47,
   "metadata": {},
   "outputs": [
    {
     "name": "stdout",
     "output_type": "stream",
     "text": [
      "13_PD2SW1EO & $1.00$ \\\\\n",
      "69_PDNVGH7Z & $1.00$ \\\\\n",
      "65_PDY5C128 & $1.00$ \\\\\n",
      "15_PDX94EF7 & $1.00$ \\\\\n",
      "70_PDUPMC2M & $1.00$ \\\\\n"
     ]
    }
   ],
   "source": [
    "display_scores(f1_scores[-5:])"
   ]
  },
  {
   "cell_type": "code",
   "execution_count": 97,
   "metadata": {},
   "outputs": [],
   "source": [
    "def setup_plot(axis, model, f1_scores, show_x_label, show_y_label):\n",
    "    axis.grid(axis='y')\n",
    "    axis.set_axisbelow(True)\n",
    "    if show_x_label: axis.set_xlabel('F1 Score')\n",
    "    if show_y_label: axis.set_ylabel('# Pullbacks')\n",
    "    axis.set_ylim(0, 33)\n",
    "    axis.set_title(f'{model[0][-2:]}-{model[1]}'.upper())\n",
    "    axis.hist(f1_scores, bins=n_bins(f1_scores))"
   ]
  },
  {
   "cell_type": "code",
   "execution_count": 45,
   "metadata": {},
   "outputs": [],
   "source": [
    "def generate_all_f1_scores():\n",
    "    for model in BEST_MODELS:\n",
    "        yield model, generate_model_f1_scores(*model)"
   ]
  },
  {
   "cell_type": "code",
   "execution_count": 92,
   "metadata": {},
   "outputs": [],
   "source": [
    "def should_show_labels(row_index, col_index):\n",
    "    if col_index == 0 and row_index == 2:\n",
    "        return (True, True)\n",
    "    if row_index == 2:\n",
    "        return (True, False)\n",
    "    if col_index == 0:\n",
    "        return (False, True)\n",
    "    return (False, False)"
   ]
  },
  {
   "cell_type": "code",
   "execution_count": 110,
   "metadata": {},
   "outputs": [
    {
     "data": {
      "image/png": "[encoded data removed]",
      "text/plain": [
       "<Figure size 936x1224 with 6 Axes>"
      ]
     },
     "metadata": {
      "needs_background": "light"
     },
     "output_type": "display_data"
    }
   ],
   "source": [
    "plt.rc('axes', labelsize=13, titlesize=15)\n",
    "plt.rc('xtick', labelsize=11) \n",
    "plt.rc('ytick', labelsize=11)\n",
    "fig = plt.figure(figsize=(13, 17))\n",
    "gs = fig.add_gridspec(3, 2, hspace=0.2, wspace=0)\n",
    "axises = gs.subplots(sharey='row')\n",
    "all_f1_scores = generate_all_f1_scores()\n",
    "\n",
    "for row_index, row in enumerate(axises):\n",
    "    for col_index, axis in enumerate(row):\n",
    "        model, f1_scores = next(all_f1_scores)\n",
    "        show_x_label, show_y_label = should_show_labels(row_index, col_index)\n",
    "        setup_plot(axis, model, f1_scores, show_x_label, show_y_label)"
   ]
  },
  {
   "cell_type": "code",
   "execution_count": 130,
   "metadata": {},
   "outputs": [
    {
     "data": {
      "text/plain": [
       "[None, Text(0.5, 0, 'Modelo'), Text(0, 0.5, 'F1 Score')]"
      ]
     },
     "execution_count": 130,
     "metadata": {},
     "output_type": "execute_result"
    },
    {
     "data": {
      "image/png": "[encoded data removed]",
      "text/plain": [
       "<Figure size 864x288 with 1 Axes>"
      ]
     },
     "metadata": {
      "needs_background": "light"
     },
     "output_type": "display_data"
    }
   ],
   "source": [
    "plt.rc('axes', labelsize=13, titlesize=15)\n",
    "plt.rc('xtick', labelsize=11) \n",
    "plt.rc('ytick', labelsize=11)\n",
    "\n",
    "fig = plt.figure(figsize=(12,4))\n",
    "gs = fig.add_gridspec(1, 1, hspace=0.2, wspace=0)\n",
    "axis = gs.subplots(sharey='row')\n",
    "\n",
    "labels = [f'{model_type[-2:]}-{model_id}'.upper() for model_type, model_id in BEST_MODELS]\n",
    "\n",
    "axis.boxplot([scores for model, scores in generate_all_f1_scores()], labels=labels)\n",
    "\n",
    "axis.yaxis.grid(True, linestyle='-', which='major', color='lightgrey',\n",
    "               alpha=0.5)\n",
    "\n",
    "axis.set(\n",
    "    axisbelow=True,\n",
    "    xlabel='Modelo',\n",
    "    ylabel='F1 Score',\n",
    ")"
   ]
  },
  {
   "cell_type": "code",
   "execution_count": null,
   "metadata": {},
   "outputs": [],
   "source": []
  }
 ],
 "metadata": {
  "kernelspec": {
   "display_name": "Python 3",
   "language": "python",
   "name": "python3"
  },
  "language_info": {
   "codemirror_mode": {
    "name": "ipython",
    "version": 3
   },
   "file_extension": ".py",
   "mimetype": "text/x-python",
   "name": "python",
   "nbconvert_exporter": "python",
   "pygments_lexer": "ipython3",
   "version": "3.8.8"
  }
 },
 "nbformat": 4,
 "nbformat_minor": 4
}
