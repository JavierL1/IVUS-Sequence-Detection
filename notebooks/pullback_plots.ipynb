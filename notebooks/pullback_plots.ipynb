{
 "cells": [
  {
   "cell_type": "code",
   "execution_count": 2,
   "id": "93ad7c6f-728d-4ed3-a43d-84e74d59bf8b",
   "metadata": {
    "collapsed": true,
    "jupyter": {
     "outputs_hidden": true
    },
    "tags": []
   },
   "outputs": [
    {
     "name": "stdout",
     "output_type": "stream",
     "text": [
      "Collecting numpy\n",
      "  Downloading numpy-1.23.4-cp310-cp310-manylinux_2_17_x86_64.manylinux2014_x86_64.whl (17.1 MB)\n",
      "\u001b[2K     \u001b[90m━━━━━━━━━━━━━━━━━━━━━━━━━━━━━━━━━━━━━━━━\u001b[0m \u001b[32m17.1/17.1 MB\u001b[0m \u001b[31m7.1 MB/s\u001b[0m eta \u001b[36m0:00:00\u001b[0m00:01\u001b[0m00:01\u001b[0m\n",
      "\u001b[?25hCollecting matplotlib\n",
      "  Downloading matplotlib-3.6.2-cp310-cp310-manylinux_2_17_x86_64.manylinux2014_x86_64.whl (11.8 MB)\n",
      "\u001b[2K     \u001b[90m━━━━━━━━━━━━━━━━━━━━━━━━━━━━━━━━━━━━━━━━\u001b[0m \u001b[32m11.8/11.8 MB\u001b[0m \u001b[31m7.1 MB/s\u001b[0m eta \u001b[36m0:00:00\u001b[0m00:01\u001b[0m00:01\u001b[0m\n",
      "\u001b[?25hCollecting pillow>=6.2.0\n",
      "  Downloading Pillow-9.3.0-cp310-cp310-manylinux_2_28_x86_64.whl (3.3 MB)\n",
      "\u001b[2K     \u001b[90m━━━━━━━━━━━━━━━━━━━━━━━━━━━━━━━━━━━━━━━━\u001b[0m \u001b[32m3.3/3.3 MB\u001b[0m \u001b[31m6.6 MB/s\u001b[0m eta \u001b[36m0:00:00\u001b[0m00:01\u001b[0m00:01\u001b[0m\n",
      "\u001b[?25hCollecting fonttools>=4.22.0\n",
      "  Downloading fonttools-4.38.0-py3-none-any.whl (965 kB)\n",
      "\u001b[2K     \u001b[90m━━━━━━━━━━━━━━━━━━━━━━━━━━━━━━━━━━━━━━━\u001b[0m \u001b[32m965.4/965.4 kB\u001b[0m \u001b[31m4.9 MB/s\u001b[0m eta \u001b[36m0:00:00\u001b[0ma \u001b[36m0:00:01\u001b[0m\n",
      "\u001b[?25hCollecting kiwisolver>=1.0.1\n",
      "  Downloading kiwisolver-1.4.4-cp310-cp310-manylinux_2_12_x86_64.manylinux2010_x86_64.whl (1.6 MB)\n",
      "\u001b[2K     \u001b[90m━━━━━━━━━━━━━━━━━━━━━━━━━━━━━━━━━━━━━━━━\u001b[0m \u001b[32m1.6/1.6 MB\u001b[0m \u001b[31m6.7 MB/s\u001b[0m eta \u001b[36m0:00:00\u001b[0m00:01\u001b[0m00:01\u001b[0m\n",
      "\u001b[?25hCollecting contourpy>=1.0.1\n",
      "  Downloading contourpy-1.0.6-cp310-cp310-manylinux_2_17_x86_64.manylinux2014_x86_64.whl (296 kB)\n",
      "\u001b[2K     \u001b[90m━━━━━━━━━━━━━━━━━━━━━━━━━━━━━━━━━━━━━━━\u001b[0m \u001b[32m296.1/296.1 kB\u001b[0m \u001b[31m6.6 MB/s\u001b[0m eta \u001b[36m0:00:00\u001b[0ma \u001b[36m0:00:01\u001b[0m\n",
      "\u001b[?25hRequirement already satisfied: pyparsing>=2.2.1 in /opt/conda/lib/python3.10/site-packages (from matplotlib) (3.0.9)\n",
      "Requirement already satisfied: packaging>=20.0 in /opt/conda/lib/python3.10/site-packages (from matplotlib) (21.3)\n",
      "Requirement already satisfied: python-dateutil>=2.7 in /opt/conda/lib/python3.10/site-packages (from matplotlib) (2.8.2)\n",
      "Collecting cycler>=0.10\n",
      "  Downloading cycler-0.11.0-py3-none-any.whl (6.4 kB)\n",
      "Requirement already satisfied: six>=1.5 in /opt/conda/lib/python3.10/site-packages (from python-dateutil>=2.7->matplotlib) (1.16.0)\n",
      "Installing collected packages: pillow, numpy, kiwisolver, fonttools, cycler, contourpy, matplotlib\n",
      "Successfully installed contourpy-1.0.6 cycler-0.11.0 fonttools-4.38.0 kiwisolver-1.4.4 matplotlib-3.6.2 numpy-1.23.4 pillow-9.3.0\n"
     ]
    }
   ],
   "source": [
    "!pip install numpy matplotlib"
   ]
  },
  {
   "cell_type": "code",
   "execution_count": 53,
   "id": "7df7ec8f-8ed7-45e3-a1a8-312839080a2a",
   "metadata": {},
   "outputs": [],
   "source": [
    "import numpy as np\n",
    "from pathlib import Path\n",
    "import matplotlib.pyplot as plt"
   ]
  },
  {
   "cell_type": "code",
   "execution_count": 11,
   "id": "25d4d427-18b1-4d2b-9425-ec3c2409ae8f",
   "metadata": {},
   "outputs": [],
   "source": [
    "BASE_FOLDER = Path.cwd().parent.parent / 'work'\n",
    "RESULT_FOLDER = BASE_FOLDER / 'results'\n",
    "BEST_MODELS = [\n",
    "        ('hp_pr', '57'),\n",
    "        ('hp_po', '63'),\n",
    "        ('hp_tf', '69'),\n",
    "        ('hp_cr', '55'),\n",
    "        ('hp_sh', '72'),\n",
    "        ('hp_ro', '33'),\n",
    "    ]"
   ]
  },
  {
   "cell_type": "code",
   "execution_count": 8,
   "id": "4b53b875-0853-4f05-b537-d3da8088c0f8",
   "metadata": {},
   "outputs": [],
   "source": [
    "def get_csv_predictions(file_path):\n",
    "    data = np.loadtxt(file_path, delimiter=',')\n",
    "    return data[:, 0]"
   ]
  },
  {
   "cell_type": "code",
   "execution_count": 9,
   "id": "7e0fe326-8586-4c1b-bc51-8cdf74102e5c",
   "metadata": {},
   "outputs": [],
   "source": [
    "def get_csv_true(file_path):\n",
    "    data = np.loadtxt(file_path, delimiter=',')\n",
    "    return data[:, 1]"
   ]
  },
  {
   "cell_type": "code",
   "execution_count": 39,
   "id": "4e072898-9ed5-4b5d-a03a-1f2fa9082f6d",
   "metadata": {},
   "outputs": [],
   "source": [
    "def get_model_predictions(model_type, model_id, data_set_name):\n",
    "    predictions_folder = RESULT_FOLDER / model_type / f'model_{model_id}' / 'predictions'\n",
    "    return {\n",
    "        pullback_file.stem: get_csv_predictions(pullback_file)\n",
    "        for fold_folder in predictions_folder.iterdir()\n",
    "        for pullback_file in (fold_folder / data_set_name.upper()).iterdir()\n",
    "    }"
   ]
  },
  {
   "cell_type": "code",
   "execution_count": 21,
   "id": "f3c44bff-4e99-460c-9b91-1b78007a1502",
   "metadata": {},
   "outputs": [],
   "source": [
    "def get_all_model_predictions(data_set_name):\n",
    "    return {\n",
    "        (model_type, model_id): get_model_predictions(model_type, model_id, data_set_name)\n",
    "        for (model_type, model_id) in BEST_MODELS\n",
    "    }"
   ]
  },
  {
   "cell_type": "code",
   "execution_count": 33,
   "id": "78e19f2c-21ca-4839-877f-ba01f4376d16",
   "metadata": {},
   "outputs": [],
   "source": [
    "def get_smoothed_predictions(data_set_name):\n",
    "    predictions_folder = BASE_FOLDER / 'new tuning' / 'smoothed' / 'predictions' / data_set_name.lower()\n",
    "    return {\n",
    "        pullback_file.stem: get_csv_predictions(pullback_file)\n",
    "        for pullback_file in predictions_folder.iterdir()\n",
    "    }"
   ]
  },
  {
   "cell_type": "code",
   "execution_count": 36,
   "id": "b6ae2595-27ba-4400-abd2-81d2d229ea50",
   "metadata": {},
   "outputs": [],
   "source": [
    "def get_all_real(data_set_name):\n",
    "    predictions_folder = BASE_FOLDER / 'new tuning' / 'smoothed' / 'predictions' / data_set_name.lower()\n",
    "    return {\n",
    "        pullback_file.stem: get_csv_true(pullback_file)\n",
    "        for pullback_file in predictions_folder.iterdir()\n",
    "    }"
   ]
  },
  {
   "cell_type": "code",
   "execution_count": 47,
   "id": "d0b3be34-b12f-4639-89b8-fc997c0593b7",
   "metadata": {},
   "outputs": [],
   "source": [
    "def get_pullback_data(pullback_name, models_data, smoothed_data, real_data):\n",
    "    return {\n",
    "        'smoothed': smoothed_data[pullback_name],\n",
    "        'real': real_data[pullback_name],\n",
    "        **{\n",
    "            model: model_data[pullback_name]\n",
    "            for model, model_data in models_data.items()\n",
    "        },\n",
    "    }"
   ]
  },
  {
   "cell_type": "code",
   "execution_count": 48,
   "id": "52921428-f813-4c91-83b1-9e0b432b4b17",
   "metadata": {},
   "outputs": [],
   "source": [
    "def get_all_pullbacks_data(data_set_name):\n",
    "    models_data = get_all_model_predictions(data_set_name)\n",
    "    smoothed_data = get_smoothed_predictions(data_set_name)\n",
    "    real_data = get_all_real(data_set_name)\n",
    "\n",
    "    return {\n",
    "        pullback_name: get_pullback_data(pullback_name, models_data, smoothed_data, real_data)\n",
    "        for pullback_name in real_data.keys()\n",
    "    }"
   ]
  },
  {
   "cell_type": "code",
   "execution_count": 50,
   "id": "3446d162-eb4f-4b9c-b0fd-45c7dd6875ed",
   "metadata": {},
   "outputs": [],
   "source": [
    "all_pullbacks_data = get_all_pullbacks_data('val')"
   ]
  },
  {
   "cell_type": "code",
   "execution_count": 108,
   "id": "eff55827-91a5-4bf8-b3d7-23cae3646ef7",
   "metadata": {},
   "outputs": [],
   "source": [
    "def get_style(source):\n",
    "    if source == ('hp_pr', '57'):\n",
    "        return '#1abc9c', 'PR-57', 'solid'\n",
    "    if source == ('hp_po', '63'):\n",
    "        return '#e67e22', 'PO-63', 'solid'\n",
    "    if source == ('hp_tf', '69'):\n",
    "        return '#3498db', 'TF-69', 'solid'\n",
    "    if source == ('hp_cr', '55'):\n",
    "        return '#9b59b6', 'CR-55', 'solid'\n",
    "    if source == ('hp_sh', '72'):\n",
    "        return '#34495e', 'SH-72', 'solid'\n",
    "    if source == ('hp_ro', '33'):\n",
    "        return '#7f8c8d', 'RO-33', 'solid'\n",
    "    if source == 'real':\n",
    "        return '#e74c3c', 'Real', 'dotted'\n",
    "    if source == 'smoothed':\n",
    "        return '#f1c40f', 'Smoothing', 'dashed'"
   ]
  },
  {
   "cell_type": "code",
   "execution_count": 132,
   "id": "b9838be4-28f6-40da-87d8-d35c518646e3",
   "metadata": {},
   "outputs": [],
   "source": [
    "def get_pullback_fold_mapping():\n",
    "    model_type, model_id = ('hp_sh', '72')\n",
    "    predictions_folder = RESULT_FOLDER / model_type / f'model_{model_id}' / 'predictions'\n",
    "    return {\n",
    "        pullback_file.stem: int(fold_folder.stem)\n",
    "        for fold_folder in predictions_folder.iterdir()\n",
    "        for pullback_file in (fold_folder / 'VAL').iterdir()\n",
    "    }"
   ]
  },
  {
   "cell_type": "code",
   "execution_count": 133,
   "id": "e3424a61-0527-4977-9928-e0fda28e61ca",
   "metadata": {},
   "outputs": [],
   "source": [
    "def get_theta(pullback_name):\n",
    "    fold = get_pullback_fold_mapping()[pullback_name]\n",
    "    theta_values = [0.398990,0.213131,0.447475,0.245455,0.334343,0.132323,0.342424,0.188889,0.269697,0.237374]\n",
    "    return theta_values[fold-1]"
   ]
  },
  {
   "cell_type": "code",
   "execution_count": 165,
   "id": "059fb6fa-cb0f-455d-b834-c839cf4418f8",
   "metadata": {},
   "outputs": [],
   "source": [
    "def generate_pullback_plot(pullback_name, pullback_data):\n",
    "    plt.figure(figsize=(15, 3), dpi=144)\n",
    "    plt.ylim(ymax=1.1, ymin=-0.1)\n",
    "    pullback_length = len(pullback_data['real'])\n",
    "    X = np.arange(0, pullback_length, 1)\n",
    "    sources = [\n",
    "        'real',\n",
    "        'smoothed',\n",
    "        *BEST_MODELS\n",
    "    ]\n",
    "    \n",
    "    for source in sources:\n",
    "        data = pullback_data[source]\n",
    "        color, label, linestyle = get_style(source)\n",
    "        plt.plot(X, data, color=color, label=label, linestyle=linestyle)\n",
    "    \n",
    "    plt.hlines(y=0.5, xmin=0, xmax=pullback_length-1, colors='g', linestyles='--', lw=1, label='0.5')\n",
    "    theta = get_theta(pullback_name)\n",
    "    plt.hlines(y=theta, xmin=0, xmax=pullback_length-1, colors='#bdc3c7', linestyles='--', lw=1, label=rf'$\\theta$={theta:.3f}')\n",
    "    plt.legend(loc=(1.02, 0))\n",
    "    plt.tight_layout()\n",
    "    plt.savefig(RESULT_FOLDER / 'assets' / 'pullback_plots' / f'{pullback_name}.pdf')\n",
    "    plt.close()"
   ]
  },
  {
   "cell_type": "code",
   "execution_count": 168,
   "id": "63f9642f-142b-4964-acfa-172f66dabb90",
   "metadata": {},
   "outputs": [],
   "source": [
    "def generate_all_pullback_plots():\n",
    "    for pullback_name, pullback_data in all_pullbacks_data.items():\n",
    "        generate_pullback_plot(pullback_name, pullback_data)"
   ]
  },
  {
   "cell_type": "code",
   "execution_count": 169,
   "id": "90400935-2d1a-4424-a484-5c847fb7588d",
   "metadata": {},
   "outputs": [],
   "source": [
    "generate_all_pullback_plots()"
   ]
  },
  {
   "cell_type": "code",
   "execution_count": null,
   "id": "395ee284-e818-4fd0-b790-5a05667b3162",
   "metadata": {},
   "outputs": [],
   "source": []
  }
 ],
 "metadata": {
  "kernelspec": {
   "display_name": "Python 3 (ipykernel)",
   "language": "python",
   "name": "python3"
  },
  "language_info": {
   "codemirror_mode": {
    "name": "ipython",
    "version": 3
   },
   "file_extension": ".py",
   "mimetype": "text/x-python",
   "name": "python",
   "nbconvert_exporter": "python",
   "pygments_lexer": "ipython3",
   "version": "3.10.6"
  }
 },
 "nbformat": 4,
 "nbformat_minor": 5
}
