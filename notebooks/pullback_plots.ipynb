{
 "cells": [
  {
   "cell_type": "code",
   "execution_count": 1,
   "id": "93ad7c6f-728d-4ed3-a43d-84e74d59bf8b",
   "metadata": {
    "jupyter": {
     "outputs_hidden": true
    },
    "tags": []
   },
   "outputs": [
    {
     "name": "stdout",
     "output_type": "stream",
     "text": [
      "Requirement already satisfied: numpy in /opt/conda/lib/python3.8/site-packages (1.23.5)\n",
      "Requirement already satisfied: matplotlib in /opt/conda/lib/python3.8/site-packages (3.6.2)\n",
      "Requirement already satisfied: pillow>=6.2.0 in /opt/conda/lib/python3.8/site-packages (from matplotlib) (9.3.0)\n",
      "Requirement already satisfied: python-dateutil>=2.7 in /opt/conda/lib/python3.8/site-packages (from matplotlib) (2.8.1)\n",
      "Requirement already satisfied: contourpy>=1.0.1 in /opt/conda/lib/python3.8/site-packages (from matplotlib) (1.0.6)\n",
      "Requirement already satisfied: cycler>=0.10 in /opt/conda/lib/python3.8/site-packages (from matplotlib) (0.11.0)\n",
      "Requirement already satisfied: fonttools>=4.22.0 in /opt/conda/lib/python3.8/site-packages (from matplotlib) (4.38.0)\n",
      "Requirement already satisfied: kiwisolver>=1.0.1 in /opt/conda/lib/python3.8/site-packages (from matplotlib) (1.4.4)\n",
      "Requirement already satisfied: pyparsing>=2.2.1 in /opt/conda/lib/python3.8/site-packages (from matplotlib) (2.4.7)\n",
      "Requirement already satisfied: packaging>=20.0 in /opt/conda/lib/python3.8/site-packages (from matplotlib) (20.9)\n",
      "Requirement already satisfied: six>=1.5 in /opt/conda/lib/python3.8/site-packages (from python-dateutil>=2.7->matplotlib) (1.16.0)\n"
     ]
    }
   ],
   "source": [
    "!pip install numpy matplotlib"
   ]
  },
  {
   "cell_type": "code",
   "execution_count": 131,
   "id": "7df7ec8f-8ed7-45e3-a1a8-312839080a2a",
   "metadata": {},
   "outputs": [],
   "source": [
    "import numpy as np\n",
    "from pathlib import Path\n",
    "import matplotlib.pyplot as plt\n",
    "from collections import OrderedDict"
   ]
  },
  {
   "cell_type": "code",
   "execution_count": 3,
   "id": "25d4d427-18b1-4d2b-9425-ec3c2409ae8f",
   "metadata": {},
   "outputs": [],
   "source": [
    "BASE_FOLDER = Path.cwd().parent.parent / 'work'\n",
    "RESULT_FOLDER = BASE_FOLDER / 'results'\n",
    "BEST_MODELS = [\n",
    "        ('hp_pr', '57'),\n",
    "        ('hp_po', '63'),\n",
    "        ('hp_tf', '69'),\n",
    "        ('hp_cr', '55'),\n",
    "        ('hp_sh', '72'),\n",
    "        ('hp_ro', '33'),\n",
    "    ]"
   ]
  },
  {
   "cell_type": "code",
   "execution_count": 4,
   "id": "4b53b875-0853-4f05-b537-d3da8088c0f8",
   "metadata": {},
   "outputs": [],
   "source": [
    "def get_csv_predictions(file_path):\n",
    "    data = np.loadtxt(file_path, delimiter=',')\n",
    "    return data[:, 0]"
   ]
  },
  {
   "cell_type": "code",
   "execution_count": 5,
   "id": "7e0fe326-8586-4c1b-bc51-8cdf74102e5c",
   "metadata": {},
   "outputs": [],
   "source": [
    "def get_csv_true(file_path):\n",
    "    data = np.loadtxt(file_path, delimiter=',')\n",
    "    return data[:, 1]"
   ]
  },
  {
   "cell_type": "code",
   "execution_count": 6,
   "id": "4e072898-9ed5-4b5d-a03a-1f2fa9082f6d",
   "metadata": {},
   "outputs": [],
   "source": [
    "def get_model_predictions(model_type, model_id, data_set_name):\n",
    "    predictions_folder = RESULT_FOLDER / model_type / f'model_{model_id}' / 'predictions'\n",
    "    return {\n",
    "        pullback_file.stem: get_csv_predictions(pullback_file)\n",
    "        for fold_folder in predictions_folder.iterdir()\n",
    "        for pullback_file in (fold_folder / data_set_name.upper()).iterdir()\n",
    "    }"
   ]
  },
  {
   "cell_type": "code",
   "execution_count": 7,
   "id": "f3c44bff-4e99-460c-9b91-1b78007a1502",
   "metadata": {},
   "outputs": [],
   "source": [
    "def get_all_model_predictions(data_set_name):\n",
    "    return {\n",
    "        (model_type, model_id): get_model_predictions(model_type, model_id, data_set_name)\n",
    "        for (model_type, model_id) in BEST_MODELS\n",
    "    }"
   ]
  },
  {
   "cell_type": "code",
   "execution_count": 8,
   "id": "78e19f2c-21ca-4839-877f-ba01f4376d16",
   "metadata": {},
   "outputs": [],
   "source": [
    "def get_smoothed_predictions(data_set_name):\n",
    "    predictions_folder = BASE_FOLDER / 'new tuning' / 'smoothed' / 'predictions' / data_set_name.lower()\n",
    "    return {\n",
    "        pullback_file.stem: get_csv_predictions(pullback_file)\n",
    "        for pullback_file in predictions_folder.iterdir()\n",
    "    }"
   ]
  },
  {
   "cell_type": "code",
   "execution_count": 9,
   "id": "b6ae2595-27ba-4400-abd2-81d2d229ea50",
   "metadata": {},
   "outputs": [],
   "source": [
    "def get_all_real(data_set_name):\n",
    "    predictions_folder = BASE_FOLDER / 'new tuning' / 'smoothed' / 'predictions' / data_set_name.lower()\n",
    "    return {\n",
    "        pullback_file.stem: get_csv_true(pullback_file)\n",
    "        for pullback_file in predictions_folder.iterdir()\n",
    "    }"
   ]
  },
  {
   "cell_type": "code",
   "execution_count": 10,
   "id": "d0b3be34-b12f-4639-89b8-fc997c0593b7",
   "metadata": {},
   "outputs": [],
   "source": [
    "def get_pullback_data(pullback_name, models_data, smoothed_data, real_data):\n",
    "    return {\n",
    "        'smoothed': smoothed_data[pullback_name],\n",
    "        'real': real_data[pullback_name],\n",
    "        **{\n",
    "            model: model_data[pullback_name]\n",
    "            for model, model_data in models_data.items()\n",
    "        },\n",
    "    }"
   ]
  },
  {
   "cell_type": "code",
   "execution_count": 11,
   "id": "52921428-f813-4c91-83b1-9e0b432b4b17",
   "metadata": {},
   "outputs": [],
   "source": [
    "def get_all_pullbacks_data(data_set_name):\n",
    "    models_data = get_all_model_predictions(data_set_name)\n",
    "    smoothed_data = get_smoothed_predictions(data_set_name)\n",
    "    real_data = get_all_real(data_set_name)\n",
    "\n",
    "    return {\n",
    "        pullback_name: get_pullback_data(pullback_name, models_data, smoothed_data, real_data)\n",
    "        for pullback_name in real_data.keys()\n",
    "    }"
   ]
  },
  {
   "cell_type": "code",
   "execution_count": 12,
   "id": "3446d162-eb4f-4b9c-b0fd-45c7dd6875ed",
   "metadata": {},
   "outputs": [],
   "source": [
    "all_pullbacks_data = get_all_pullbacks_data('val')"
   ]
  },
  {
   "cell_type": "code",
   "execution_count": 13,
   "id": "eff55827-91a5-4bf8-b3d7-23cae3646ef7",
   "metadata": {},
   "outputs": [],
   "source": [
    "def get_style(source):\n",
    "    if source == ('hp_pr', '57'):\n",
    "        return {'color': '#1abc9c', 'label': 'PR-57', 'linestyle': 'solid'}\n",
    "    if source == ('hp_po', '63'):\n",
    "        return {'color': '#e67e22', 'label': 'PO-63', 'linestyle': 'solid'}\n",
    "    if source == ('hp_tf', '69'):\n",
    "        return {'color': '#3498db', 'label': 'TF-69', 'linestyle': 'solid'}\n",
    "    if source == ('hp_cr', '55'):\n",
    "        return {'color': '#9b59b6', 'label': 'CR-55', 'linestyle': 'solid'}\n",
    "    if source == ('hp_sh', '72'):\n",
    "        return {'color': '#34495e', 'label': 'SH-72', 'linestyle': 'solid'}\n",
    "    if source == ('hp_ro', '33'):\n",
    "        return {'color': '#7f8c8d', 'label': 'RO-33', 'linestyle': 'solid'}\n",
    "    if source == 'real':\n",
    "        return {'color': '#000000', 'label': 'Real', 'linestyle': 'dashed', 'marker': 'x'}\n",
    "    if source == 'smoothed':\n",
    "        return {'color': '#f1c40f', 'label': 'Smoothing', 'linestyle': 'solid'}"
   ]
  },
  {
   "cell_type": "code",
   "execution_count": 14,
   "id": "b9838be4-28f6-40da-87d8-d35c518646e3",
   "metadata": {},
   "outputs": [],
   "source": [
    "def get_pullback_fold_mapping():\n",
    "    model_type, model_id = ('hp_sh', '72')\n",
    "    predictions_folder = RESULT_FOLDER / model_type / f'model_{model_id}' / 'predictions'\n",
    "    return {\n",
    "        pullback_file.stem: int(fold_folder.stem)\n",
    "        for fold_folder in predictions_folder.iterdir()\n",
    "        for pullback_file in (fold_folder / 'VAL').iterdir()\n",
    "    }"
   ]
  },
  {
   "cell_type": "code",
   "execution_count": 15,
   "id": "e3424a61-0527-4977-9928-e0fda28e61ca",
   "metadata": {},
   "outputs": [],
   "source": [
    "def get_theta(pullback_name):\n",
    "    fold = get_pullback_fold_mapping()[pullback_name]\n",
    "    theta_values = [0.398990,0.213131,0.447475,0.245455,0.334343,0.132323,0.342424,0.188889,0.269697,0.237374]\n",
    "    return theta_values[fold-1]"
   ]
  },
  {
   "cell_type": "code",
   "execution_count": 261,
   "id": "a98d3877",
   "metadata": {},
   "outputs": [],
   "source": [
    "def generate_rnn_pullback_plot(axis, pullback_name, pullback_data):\n",
    "    pullback_length = len(pullback_data['real'])\n",
    "    X = np.arange(0, pullback_length, 1)\n",
    "    sources = ['real', *BEST_MODELS]\n",
    "\n",
    "    axis.set_ylim(ymax=1.1, ymin=-0.1)\n",
    "    axis.hlines(y=0.5, xmin=0, xmax=pullback_length-1, colors='g',linestyle= 'dashed', lw=1, label='0.5')\n",
    "    axis.margins(x=0.01)\n",
    "    \n",
    "    for source in sources:\n",
    "        data = pullback_data[source]\n",
    "        style = get_style(source)\n",
    "        axis.plot(X, data, **style)"
   ]
  },
  {
   "cell_type": "code",
   "execution_count": 268,
   "id": "47643a1b",
   "metadata": {},
   "outputs": [],
   "source": [
    "def generate_cnn_pullback_plot(axis, pullback_name, pullback_data):\n",
    "    pullback_length = len(pullback_data['real'])\n",
    "    X = np.arange(0, pullback_length, 1)\n",
    "    sources = ['real', 'smoothed']\n",
    "    theta = get_theta(pullback_name)\n",
    "    \n",
    "    axis.set_ylim(ymax=1.1, ymin=-0.1)\n",
    "    axis.hlines(y=theta, xmin=0, xmax=pullback_length-1, colors='g',linestyle= 'dashed', lw=1, label=rf'$\\theta$={theta:.3f}')\n",
    "    axis.margins(x=0.01)\n",
    "    \n",
    "    for source in sources:\n",
    "        data = pullback_data[source]\n",
    "        style = get_style(source)\n",
    "        axis.plot(X, data, **style)"
   ]
  },
  {
   "cell_type": "code",
   "execution_count": 269,
   "id": "43c8b229",
   "metadata": {},
   "outputs": [],
   "source": [
    "def labels_order(label):\n",
    "    if label == 'Real':\n",
    "        return 0\n",
    "    elif label == 'Smoothing':\n",
    "        return 1\n",
    "    elif 'theta' in label:\n",
    "        return 2\n",
    "    elif 'PR' in label:\n",
    "        return 3\n",
    "    elif 'PO' in label:\n",
    "        return 4\n",
    "    elif 'TF' in label:\n",
    "        return 5\n",
    "    elif 'CR' in label:\n",
    "        return 6\n",
    "    elif 'SH' in label:\n",
    "        return 7\n",
    "    elif 'RO' in label:\n",
    "        return 8\n",
    "    elif label == '0.5':\n",
    "        return 9"
   ]
  },
  {
   "cell_type": "code",
   "execution_count": 270,
   "id": "5e695fda",
   "metadata": {},
   "outputs": [],
   "source": [
    "def extract_handles_and_labels(figure):\n",
    "    handles_and_labels = [axis.get_legend_handles_labels() for axis in figure.axes]\n",
    "    handles, labels = [sum(lol, []) for lol in zip(*handles_and_labels)]\n",
    "    d = OrderedDict(sorted([(label, handle) for handle, label in zip(handles, labels)], key=lambda x: labels_order(x[0])))\n",
    "    labels = list(d.keys())\n",
    "    handles = list(d.values())\n",
    "    return handles, labels"
   ]
  },
  {
   "cell_type": "code",
   "execution_count": 328,
   "id": "059fb6fa-cb0f-455d-b834-c839cf4418f8",
   "metadata": {},
   "outputs": [],
   "source": [
    "def generate_pullback_plots(pullback_name, pullback_data):\n",
    "    figure = plt.figure(figsize=(16, 10), dpi=144)\n",
    "    gridspec = figure.add_gridspec(2, hspace=0)\n",
    "    (axis_1, axis_2) = gridspec.subplots(sharex=True, sharey=True)\n",
    "    figure.suptitle(f'Pullback {pullback_name}', y=.91)\n",
    "\n",
    "    generate_cnn_pullback_plot(axis_1, pullback_name, pullback_data)\n",
    "    generate_rnn_pullback_plot(axis_2, pullback_name, pullback_data)\n",
    "    \n",
    "    handles, labels = extract_handles_and_labels(figure)\n",
    "    \n",
    "    figure.legend(handles, labels, loc='upper left', bbox_to_anchor=(0.9, 0.67))\n",
    "    plt.savefig(RESULT_FOLDER / 'assets' / 'pullback_plots' / f'{pullback_name}.pdf', bbox_inches='tight')\n",
    "    plt.close()"
   ]
  },
  {
   "cell_type": "code",
   "execution_count": 329,
   "id": "63f9642f-142b-4964-acfa-172f66dabb90",
   "metadata": {},
   "outputs": [],
   "source": [
    "def generate_all_pullback_plots():\n",
    "    plt.rc('font', size=15)\n",
    "    plt.rc('xtick', labelsize=12)\n",
    "    plt.rc('ytick', labelsize=12)\n",
    "    \n",
    "    for pullback_name, pullback_data in all_pullbacks_data.items():\n",
    "        generate_pullback_plots(pullback_name, pullback_data)"
   ]
  },
  {
   "cell_type": "code",
   "execution_count": 330,
   "id": "90400935-2d1a-4424-a484-5c847fb7588d",
   "metadata": {},
   "outputs": [],
   "source": [
    "generate_all_pullback_plots()"
   ]
  },
  {
   "cell_type": "code",
   "execution_count": null,
   "id": "395ee284-e818-4fd0-b790-5a05667b3162",
   "metadata": {},
   "outputs": [],
   "source": []
  }
 ],
 "metadata": {
  "kernelspec": {
   "display_name": "Python 3",
   "language": "python",
   "name": "python3"
  },
  "language_info": {
   "codemirror_mode": {
    "name": "ipython",
    "version": 3
   },
   "file_extension": ".py",
   "mimetype": "text/x-python",
   "name": "python",
   "nbconvert_exporter": "python",
   "pygments_lexer": "ipython3",
   "version": "3.8.8"
  }
 },
 "nbformat": 4,
 "nbformat_minor": 5
}
