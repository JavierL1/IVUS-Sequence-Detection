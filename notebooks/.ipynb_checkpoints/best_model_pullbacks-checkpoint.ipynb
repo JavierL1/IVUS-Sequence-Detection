{
 "cells": [
  {
   "cell_type": "code",
   "execution_count": 2,
   "metadata": {},
   "outputs": [],
   "source": [
    "import json\n",
    "from math import ceil\n",
    "import numpy as np\n",
    "from os.path import join\n",
    "import matplotlib.pyplot as plt\n",
    "\n",
    "RESULTS_FOLDER = '../results'\n",
    "SUBSETS = ['train_cnn', 'val', 'train_rnn', 'test']\n",
    "FOLDS = [str(fold) for fold in range(1, 11)]\n",
    "\n",
    "def get_metrics(exp_name, model_id):\n",
    "    metrics_path = join(\n",
    "        RESULTS_FOLDER, exp_name, f'model_{model_id}', 'metrics.json'\n",
    "    )\n",
    "    with open(metrics_path, 'r') as metrics_json:\n",
    "        metrics_file = json.load(metrics_json)\n",
    "\n",
    "    return metrics_file['metrics']\n",
    "\n",
    "def n_bins(values):\n",
    "    sorted_values = sorted(values)\n",
    "    length = len(sorted_values)\n",
    "    q1 = ceil(length / 4)\n",
    "    q3 = ceil(length * 3 / 4)\n",
    "    IQR = sorted_values[q3 - 1] - sorted_values[q1 - 1]\n",
    "    h = 2 * IQR * (length ** (-1/3))\n",
    "    max_value = values[-1]\n",
    "    min_value = values[0]\n",
    "    return ceil((max_value - min_value) / h)"
   ]
  },
  {
   "cell_type": "code",
   "execution_count": 3,
   "metadata": {},
   "outputs": [],
   "source": [
    "model_metrics = get_metrics('hp_tf', '5')"
   ]
  },
  {
   "cell_type": "code",
   "execution_count": 4,
   "metadata": {},
   "outputs": [
    {
     "data": {
      "text/plain": [
       "dict_keys(['f1', 'rec', 'fp', 'pre', 'fn', 'acc', 'total', 'tp', 'tn', 'real', 'pred'])"
      ]
     },
     "execution_count": 4,
     "metadata": {},
     "output_type": "execute_result"
    }
   ],
   "source": [
    "model_metrics['1']['test']['33_PDNRKIBC'].keys()"
   ]
  },
  {
   "cell_type": "code",
   "execution_count": 5,
   "metadata": {},
   "outputs": [],
   "source": [
    "f1_scores = [\n",
    "    {\n",
    "        'pb_name': pb_name,\n",
    "        'f1': model_metrics[fold]['test'][pb_name]['f1'],\n",
    "    }\n",
    "    for fold in FOLDS\n",
    "    for pb_name in model_metrics[fold]['test'].keys()\n",
    "    \n",
    "]\n",
    "f1_scores.sort(key=lambda item: item['f1'])"
   ]
  },
  {
   "cell_type": "code",
   "execution_count": 6,
   "metadata": {},
   "outputs": [],
   "source": [
    "def display_scores(scores):\n",
    "    for score in scores:\n",
    "        print(f'{score[\"pb_name\"]} & ${score[\"f1\"]:.2f}$ \\\\\\\\')"
   ]
  },
  {
   "cell_type": "markdown",
   "metadata": {},
   "source": [
    "### Peores"
   ]
  },
  {
   "cell_type": "code",
   "execution_count": 7,
   "metadata": {},
   "outputs": [
    {
     "name": "stdout",
     "output_type": "stream",
     "text": [
      "20_PD6M9KHG & $0.00$ \\\\\n",
      "64_PDJJP4QL & $0.00$ \\\\\n",
      "01_PD796ARA & $0.00$ \\\\\n",
      "48_PDKS3P67 & $0.00$ \\\\\n",
      "43_PDQWC1XR & $0.00$ \\\\\n"
     ]
    }
   ],
   "source": [
    "display_scores(f1_scores[:5])"
   ]
  },
  {
   "cell_type": "markdown",
   "metadata": {},
   "source": [
    "### Intermedios"
   ]
  },
  {
   "cell_type": "code",
   "execution_count": 46,
   "metadata": {},
   "outputs": [
    {
     "name": "stdout",
     "output_type": "stream",
     "text": [
      "38_PDRNCFK4 & $0.69$ \\\\\n",
      "12_PDMAXIGK & $0.70$ \\\\\n",
      "19_PDSTFKAK & $0.71$ \\\\\n",
      "79_PD9S31N6 & $0.72$ \\\\\n",
      "46_PD2DK5KB & $0.74$ \\\\\n"
     ]
    }
   ],
   "source": [
    "display_scores(f1_scores[38:43])"
   ]
  },
  {
   "cell_type": "markdown",
   "metadata": {},
   "source": [
    "### Mejores"
   ]
  },
  {
   "cell_type": "code",
   "execution_count": 47,
   "metadata": {},
   "outputs": [
    {
     "name": "stdout",
     "output_type": "stream",
     "text": [
      "13_PD2SW1EO & $1.00$ \\\\\n",
      "69_PDNVGH7Z & $1.00$ \\\\\n",
      "65_PDY5C128 & $1.00$ \\\\\n",
      "15_PDX94EF7 & $1.00$ \\\\\n",
      "70_PDUPMC2M & $1.00$ \\\\\n"
     ]
    }
   ],
   "source": [
    "display_scores(f1_scores[-5:])"
   ]
  },
  {
   "cell_type": "code",
   "execution_count": 8,
   "metadata": {},
   "outputs": [
    {
     "data": {
      "text/plain": [
       "(array([13.,  3., 13., 19., 32.]),\n",
       " array([0. , 0.2, 0.4, 0.6, 0.8, 1. ]),\n",
       " <BarContainer object of 5 artists>)"
      ]
     },
     "execution_count": 8,
     "metadata": {},
     "output_type": "execute_result"
    },
    {
     "data": {
      "image/png": "[encoded data removed]",
      "text/plain": [
       "<Figure size 432x288 with 1 Axes>"
      ]
     },
     "metadata": {
      "needs_background": "light"
     },
     "output_type": "display_data"
    }
   ],
   "source": [
    "f1_values = [item['f1'] for item in f1_scores]\n",
    "fig1, axs1 = plt.subplots(3, 2, figsize=())\n",
    "axs1.grid(axis='y')\n",
    "axs1.set_axisbelow(True)\n",
    "axs1.hist(f1_values, bins=n_bins(f1_values))"
   ]
  },
  {
   "cell_type": "code",
   "execution_count": 35,
   "metadata": {},
   "outputs": [
    {
     "data": {
      "text/plain": [
       "{'whiskers': [<matplotlib.lines.Line2D at 0x1a3b10ae7c0>,\n",
       "  <matplotlib.lines.Line2D at 0x1a3b10aeb20>],\n",
       " 'caps': [<matplotlib.lines.Line2D at 0x1a3b10aee80>,\n",
       "  <matplotlib.lines.Line2D at 0x1a3b10bc220>],\n",
       " 'boxes': [<matplotlib.lines.Line2D at 0x1a3b10ae460>],\n",
       " 'medians': [<matplotlib.lines.Line2D at 0x1a3b10bc580>],\n",
       " 'fliers': [<matplotlib.lines.Line2D at 0x1a3b10bc8e0>],\n",
       " 'means': []}"
      ]
     },
     "execution_count": 35,
     "metadata": {},
     "output_type": "execute_result"
    },
    {
     "data": {
      "image/png": "[encoded data removed]",
      "text/plain": [
       "<Figure size 432x288 with 1 Axes>"
      ]
     },
     "metadata": {
      "needs_background": "light"
     },
     "output_type": "display_data"
    }
   ],
   "source": [
    "fig1, axs1 = plt.subplots(1, 1)\n",
    "axs1.boxplot(f1_values)"
   ]
  },
  {
   "cell_type": "code",
   "execution_count": null,
   "metadata": {},
   "outputs": [],
   "source": []
  }
 ],
 "metadata": {
  "kernelspec": {
   "display_name": "Python 3",
   "language": "python",
   "name": "python3"
  },
  "language_info": {
   "codemirror_mode": {
    "name": "ipython",
    "version": 3
   },
   "file_extension": ".py",
   "mimetype": "text/x-python",
   "name": "python",
   "nbconvert_exporter": "python",
   "pygments_lexer": "ipython3",
   "version": "3.8.8"
  }
 },
 "nbformat": 4,
 "nbformat_minor": 4
}
